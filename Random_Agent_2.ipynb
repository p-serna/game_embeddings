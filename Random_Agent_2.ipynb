{
 "cells": [
  {
   "cell_type": "code",
   "execution_count": 1,
   "metadata": {},
   "outputs": [],
   "source": [
    "import numpy as np\n",
    "import numpy.random as random\n",
    "import matplotlib.pyplot as plt\n",
    "%matplotlib inline\n",
    "from game2 import game, random_connection_game_initialstate, random_connection_game"
   ]
  },
  {
   "cell_type": "code",
   "execution_count": 2,
   "metadata": {},
   "outputs": [],
   "source": [
    "import time\n",
    "from IPython.display import clear_output"
   ]
  },
  {
   "cell_type": "code",
   "execution_count": 3,
   "metadata": {},
   "outputs": [],
   "source": [
    "def randomAgent(state):\n",
    "    #move = random.randint(3)\n",
    "    # spin_1 = random.randint(Memb)\n",
    "    move = random.randint(6)\n",
    "    return move"
   ]
  },
  {
   "cell_type": "code",
   "execution_count": 4,
   "metadata": {},
   "outputs": [],
   "source": [
    "Memb = 4*4\n",
    "\n",
    "env = random_connection_game(4,  Memb, \n",
    "                             max_consecutive_failures = 50)"
   ]
  },
  {
   "cell_type": "code",
   "execution_count": 5,
   "metadata": {},
   "outputs": [
    {
     "name": "stdout",
     "output_type": "stream",
     "text": [
      "(3, 3) (16, 16) (16, 16) (2, 16, 16)\n"
     ]
    }
   ],
   "source": [
    "state = env.reset()\n",
    "print(env.H.shape, env.Hemb.shape, env.Hmask.shape,\n",
    "      env.state.shape)"
   ]
  },
  {
   "cell_type": "code",
   "execution_count": 6,
   "metadata": {},
   "outputs": [
    {
     "name": "stdout",
     "output_type": "stream",
     "text": [
      "2\n"
     ]
    },
    {
     "data": {
      "image/png": "[encoded data removed]",
      "text/plain": [
       "<Figure size 432x288 with 1 Axes>"
      ]
     },
     "metadata": {
      "needs_background": "light"
     },
     "output_type": "display_data"
    }
   ],
   "source": [
    "env = random_connection_game_initialstate(2,  Memb, p = 0.0, \n",
    "                             max_consecutive_failures = 50)\n",
    "\n",
    "state = env.reset()\n",
    "state0 = state*1.0\n",
    "fig, ax = env.plot()\n",
    "score = 0.0\n",
    "actions = []\n",
    "print(env.terms_left)"
   ]
  },
  {
   "cell_type": "code",
   "execution_count": 7,
   "metadata": {},
   "outputs": [
    {
     "data": {
      "image/png": "[encoded data removed]",
      "text/plain": [
       "<Figure size 432x288 with 1 Axes>"
      ]
     },
     "metadata": {
      "needs_background": "light"
     },
     "output_type": "display_data"
    },
    {
     "name": "stdout",
     "output_type": "stream",
     "text": [
      "-0.04375 2 4 2 0\n"
     ]
    }
   ],
   "source": [
    "clear_output(wait=True)\n",
    "#randomAgent(state, Memb)#\n",
    "action = randomAgent(state)\n",
    "#action = (0, 4)\n",
    "state, reward, done =env.step(action)\n",
    "score += reward\n",
    "actions.append((action, reward, env.N, env.terms_left ))\n",
    "\n",
    "fig, ax = env.plot()\n",
    "plt.show()\n",
    "if env.N<env.N0:\n",
    "    print('AUHDAUSHDIUAHSUIDHUASHD')\n",
    "print(score, env.N, action,env.terms_left, env.finished)\n",
    "if env.finished:\n",
    "    print('FIIIINNIISSSHEDD!!!!')"
   ]
  },
  {
   "cell_type": "code",
   "execution_count": 8,
   "metadata": {},
   "outputs": [
    {
     "data": {
      "text/plain": [
       "False"
      ]
     },
     "execution_count": 8,
     "metadata": {},
     "output_type": "execute_result"
    }
   ],
   "source": [
    "(env.Hmask>0).sum()==0"
   ]
  },
  {
   "cell_type": "code",
   "execution_count": 9,
   "metadata": {},
   "outputs": [
    {
     "data": {
      "text/plain": [
       "array([14, 10, -1, -1, -1, -1, -1, -1, -1, -1, -1, -1, -1, -1, -1, -1])"
      ]
     },
     "execution_count": 9,
     "metadata": {},
     "output_type": "execute_result"
    }
   ],
   "source": [
    "env.posS"
   ]
  },
  {
   "cell_type": "code",
   "execution_count": 10,
   "metadata": {},
   "outputs": [
    {
     "data": {
      "text/plain": [
       "(2, 2, 2)"
      ]
     },
     "execution_count": 10,
     "metadata": {},
     "output_type": "execute_result"
    }
   ],
   "source": [
    "env.terms_left, env.N, env.N0"
   ]
  },
  {
   "cell_type": "code",
   "execution_count": 11,
   "metadata": {
    "scrolled": true
   },
   "outputs": [
    {
     "data": {
      "image/png": "[encoded data removed]",
      "text/plain": [
       "<Figure size 432x288 with 1 Axes>"
      ]
     },
     "metadata": {
      "needs_background": "light"
     },
     "output_type": "display_data"
    },
    {
     "name": "stdout",
     "output_type": "stream",
     "text": [
      "0.475 2 0\n",
      "FINISHED\n"
     ]
    }
   ],
   "source": [
    "env = random_connection_game_initialstate(2,  Memb, p = 0.0,\n",
    "                             max_consecutive_failures = 50)\n",
    "\n",
    "state = env.reset()\n",
    "fig, ax = env.plot()\n",
    "score = 0.0\n",
    "actions = []\n",
    "for j in range(100):\n",
    "    clear_output(wait=True)\n",
    "    #randomAgent(state, Memb)#\n",
    "    action = randomAgent(state)\n",
    "    state, reward, done =env.step(action)\n",
    "    score += reward\n",
    "    actions.append((action, reward, env.N, env.terms_left ))\n",
    "\n",
    "    fig, ax = env.plot()\n",
    "    plt.show()\n",
    "    print(score, env.N, action)\n",
    "    if done >0:\n",
    "        print('FINISHED')\n",
    "        break\n",
    "        "
   ]
  },
  {
   "cell_type": "code",
   "execution_count": 12,
   "metadata": {},
   "outputs": [
    {
     "name": "stdout",
     "output_type": "stream",
     "text": [
      "score: 0.4025\n"
     ]
    }
   ],
   "source": [
    "scores = []\n",
    "for i in range(10000):\n",
    "    \n",
    "    state = env.reset()\n",
    "    #fig, ax = env.plot()\n",
    "    score = 0.0\n",
    "    actions = []\n",
    "    for j in range(1000):\n",
    "        #randomAgent(state, Memb)#\n",
    "        action = randomAgent(state)\n",
    "        state, reward, done =env.step(action)\n",
    "        score += reward\n",
    "        actions.append((action, reward, env.N, env.terms_left ))\n",
    "\n",
    "        #fig, ax = env.plot()\n",
    "        #plt.show()\n",
    "        if done >0:\n",
    "            #print('FINISHED')\n",
    "            break\n",
    "    \n",
    "    scores.append(score)\n",
    "    clear_output(wait=True)\n",
    "        \n",
    "    print('score: {:.4f}'.format(np.mean(scores)))\n",
    "        "
   ]
  },
  {
   "cell_type": "code",
   "execution_count": 13,
   "metadata": {},
   "outputs": [
    {
     "data": {
      "text/plain": [
       "(array([2.00e+00, 0.00e+00, 6.90e+01, 1.34e+03, 2.00e+00, 2.00e+00,\n",
       "        1.00e+00, 2.00e+00, 3.00e+00, 7.00e+00, 6.00e+00, 0.00e+00,\n",
       "        0.00e+00, 0.00e+00, 0.00e+00, 0.00e+00, 0.00e+00, 0.00e+00,\n",
       "        0.00e+00, 0.00e+00, 0.00e+00, 0.00e+00, 0.00e+00, 0.00e+00,\n",
       "        0.00e+00, 0.00e+00, 0.00e+00, 1.60e+01, 1.22e+02, 1.32e+02,\n",
       "        1.72e+02, 2.05e+02, 2.01e+02, 2.30e+02, 2.24e+02, 2.25e+02,\n",
       "        2.68e+02, 3.24e+02, 3.28e+02, 3.62e+02, 4.16e+02, 4.23e+02,\n",
       "        4.50e+02, 4.82e+02, 5.14e+02, 5.43e+02, 5.78e+02, 6.20e+02,\n",
       "        6.08e+02, 6.13e+02, 5.10e+02]),\n",
       " array([-1.16875   , -1.12622549, -1.08370098, -1.04117647, -0.99865196,\n",
       "        -0.95612745, -0.91360294, -0.87107843, -0.82855392, -0.78602941,\n",
       "        -0.7435049 , -0.70098039, -0.65845588, -0.61593137, -0.57340686,\n",
       "        -0.53088235, -0.48835784, -0.44583333, -0.40330882, -0.36078431,\n",
       "        -0.3182598 , -0.27573529, -0.23321078, -0.19068627, -0.14816176,\n",
       "        -0.10563725, -0.06311275, -0.02058824,  0.02193627,  0.06446078,\n",
       "         0.10698529,  0.1495098 ,  0.19203431,  0.23455882,  0.27708333,\n",
       "         0.31960784,  0.36213235,  0.40465686,  0.44718137,  0.48970588,\n",
       "         0.53223039,  0.5747549 ,  0.61727941,  0.65980392,  0.70232843,\n",
       "         0.74485294,  0.78737745,  0.82990196,  0.87242647,  0.91495098,\n",
       "         0.95747549,  1.        ]),\n",
       " <a list of 51 Patch objects>)"
      ]
     },
     "execution_count": 13,
     "metadata": {},
     "output_type": "execute_result"
    },
    {
     "data": {
      "image/png": "[encoded data removed]",
      "text/plain": [
       "<Figure size 432x288 with 1 Axes>"
      ]
     },
     "metadata": {
      "needs_background": "light"
     },
     "output_type": "display_data"
    }
   ],
   "source": [
    "plt.hist(scores, 51)"
   ]
  },
  {
   "cell_type": "code",
   "execution_count": 14,
   "metadata": {},
   "outputs": [],
   "source": [
    "scores2 = scores.copy()"
   ]
  },
  {
   "cell_type": "code",
   "execution_count": 15,
   "metadata": {},
   "outputs": [
    {
     "name": "stdout",
     "output_type": "stream",
     "text": [
      "score: -0.1920\n"
     ]
    }
   ],
   "source": [
    "env = random_connection_game_initialstate(3,  Memb, p = 0.0,\n",
    "                             max_consecutive_failures = 50)\n",
    "scores = []\n",
    "for i in range(10000):\n",
    "    \n",
    "    state = env.reset()\n",
    "    #fig, ax = env.plot()\n",
    "    score = 0.0\n",
    "    actions = []\n",
    "    for j in range(1000):\n",
    "        #randomAgent(state, Memb)#\n",
    "        action = randomAgent(state)\n",
    "        state, reward, done =env.step(action)\n",
    "        score += reward\n",
    "        actions.append((action, reward, env.N, env.terms_left ))\n",
    "\n",
    "        #fig, ax = env.plot()\n",
    "        #plt.show()\n",
    "        if done >0:\n",
    "            #print('FINISHED')\n",
    "            break\n",
    "    \n",
    "    scores.append(score)\n",
    "    clear_output(wait=True)\n",
    "        \n",
    "    print('score: {:.4f}'.format(np.mean(scores)))"
   ]
  },
  {
   "cell_type": "code",
   "execution_count": 16,
   "metadata": {},
   "outputs": [],
   "source": [
    "scores3 = scores.copy()"
   ]
  },
  {
   "cell_type": "code",
   "execution_count": 17,
   "metadata": {},
   "outputs": [
    {
     "data": {
      "text/plain": [
       "<matplotlib.legend.Legend at 0x7f01fddd9908>"
      ]
     },
     "execution_count": 17,
     "metadata": {},
     "output_type": "execute_result"
    },
    {
     "data": {
      "image/png": "[encoded data removed]",
      "text/plain": [
       "<Figure size 432x288 with 1 Axes>"
      ]
     },
     "metadata": {
      "needs_background": "light"
     },
     "output_type": "display_data"
    }
   ],
   "source": [
    "plt.hist(scores2, 51, label = '2')\n",
    "plt.hist(scores3, 51, alpha = 0.5, label = '3')\n",
    "plt.legend(title = 'qubits')"
   ]
  },
  {
   "cell_type": "code",
   "execution_count": 18,
   "metadata": {},
   "outputs": [
    {
     "name": "stdout",
     "output_type": "stream",
     "text": [
      "score: -0.4728\n"
     ]
    }
   ],
   "source": [
    "env = random_connection_game_initialstate(4,  Memb, p = 0.0,\n",
    "                             max_consecutive_failures = 50)\n",
    "scores = []\n",
    "for i in range(10000):\n",
    "    \n",
    "    state = env.reset()\n",
    "    #fig, ax = env.plot()\n",
    "    score = 0.0\n",
    "    actions = []\n",
    "    for j in range(1000):\n",
    "        #randomAgent(state, Memb)#\n",
    "        action = randomAgent(state)\n",
    "        state, reward, done =env.step(action)\n",
    "        score += reward\n",
    "        actions.append((action, reward, env.N, env.terms_left ))\n",
    "\n",
    "        #fig, ax = env.plot()\n",
    "        #plt.show()\n",
    "        if done >0:\n",
    "            #print('FINISHED')\n",
    "            break\n",
    "    \n",
    "    scores.append(score)\n",
    "    clear_output(wait=True)\n",
    "        \n",
    "    print('score: {:.4f}'.format(np.mean(scores)))"
   ]
  },
  {
   "cell_type": "code",
   "execution_count": 19,
   "metadata": {},
   "outputs": [],
   "source": [
    "scores4 = scores.copy()"
   ]
  },
  {
   "cell_type": "code",
   "execution_count": 20,
   "metadata": {},
   "outputs": [
    {
     "data": {
      "text/plain": [
       "<matplotlib.legend.Legend at 0x7f01bac7fc18>"
      ]
     },
     "execution_count": 20,
     "metadata": {},
     "output_type": "execute_result"
    },
    {
     "data": {
      "image/png": "[encoded data removed]",
      "text/plain": [
       "<Figure size 432x288 with 1 Axes>"
      ]
     },
     "metadata": {
      "needs_background": "light"
     },
     "output_type": "display_data"
    }
   ],
   "source": [
    "plt.hist(scores2, 51, label = '2')\n",
    "plt.hist(scores3, 51, alpha = 0.5, label = '3')\n",
    "plt.hist(scores4, 51, alpha = 0.5, label = '4')\n",
    "plt.legend(title = 'qubits')"
   ]
  },
  {
   "cell_type": "code",
   "execution_count": null,
   "metadata": {},
   "outputs": [],
   "source": []
  },
  {
   "cell_type": "code",
   "execution_count": 21,
   "metadata": {},
   "outputs": [],
   "source": [
    "fscores  = [np.array(scores2), np.array(scores3), np.array(scores4)]\n",
    "avg_sc = np.array([np.mean(sc) for sc in fscores])\n",
    "std_sc = np.array([np.std(sc) for sc in fscores])\n",
    "pbm1 = np.array([(sc< (-0.5)).sum()/sc.shape[0] for sc in fscores])"
   ]
  },
  {
   "cell_type": "code",
   "execution_count": 22,
   "metadata": {},
   "outputs": [
    {
     "data": {
      "text/plain": [
       "Text(0, 0.5, 'Avg score (blue) & prob(not finishing)')"
      ]
     },
     "execution_count": 22,
     "metadata": {},
     "output_type": "execute_result"
    },
    {
     "data": {
      "image/png": "[encoded data removed]",
      "text/plain": [
       "<Figure size 432x288 with 1 Axes>"
      ]
     },
     "metadata": {
      "needs_background": "light"
     },
     "output_type": "display_data"
    }
   ],
   "source": [
    "plt.plot(np.arange(2,5), avg_sc)\n",
    "plt.plot(np.arange(2,5), pbm1)\n",
    "plt.xlabel('# qubits')\n",
    "plt.ylabel('Avg score (blue) & prob(not finishing)')"
   ]
  },
  {
   "cell_type": "code",
   "execution_count": null,
   "metadata": {},
   "outputs": [],
   "source": []
  }
 ],
 "metadata": {
  "kernelspec": {
   "display_name": "Python 3",
   "language": "python",
   "name": "python3"
  },
  "language_info": {
   "codemirror_mode": {
    "name": "ipython",
    "version": 3
   },
   "file_extension": ".py",
   "mimetype": "text/x-python",
   "name": "python",
   "nbconvert_exporter": "python",
   "pygments_lexer": "ipython3",
   "version": "3.6.10"
  }
 },
 "nbformat": 4,
 "nbformat_minor": 4
}
