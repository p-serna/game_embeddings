{
 "cells": [
  {
   "cell_type": "code",
   "execution_count": 1,
   "metadata": {},
   "outputs": [],
   "source": [
    "import sys\n",
    "import scipy.sparse as sparse\n",
    "import scipy.sparse.linalg\n",
    "from numpy import linalg as LA\n",
    "import numpy as np\n",
    "import math\n",
    "from scipy.interpolate import interp1d\n",
    "import matplotlib.pyplot as plt\n",
    "#from simanneal import Annealer\n",
    "import networkx as nx\n",
    "from random import randrange\n",
    "import itertools\n",
    "import random\n",
    "from scipy.optimize import minimize\n",
    "#from pulp import *"
   ]
  },
  {
   "cell_type": "markdown",
   "metadata": {},
   "source": [
    "# Defining graphs:\n",
    "\n",
    "We use several graphs. The class graphs should contain definitions of relevant graphs in create_graphs following the option kind. The parameter nsize should contain relevant information for the size of the lattice. "
   ]
  },
  {
   "cell_type": "code",
   "execution_count": 2,
   "metadata": {},
   "outputs": [],
   "source": [
    "bethe = 0\n",
    "rrg = 1\n",
    "tri = 2\n",
    "\n",
    "class graphs:\n",
    "    # nsize is a list that contains the information about the size of the lattice:\n",
    "    # For a Bethe lattice, nsize = [branching factor, number of generations]\n",
    "    # For random-regular graph, we give nsize = [degree of each node,number of nodes]. \n",
    "    # WARNING: nsize[0]*nsize[1] should be even for random-regular graphs, see documentation in:\n",
    "    # https://testfixsphinx.readthedocs.io/en/latest/reference/generated/networkx.generators.random_graphs.random_regular_graph.html#networkx.generators.random_graphs.random_regular_graph\n",
    "    # For triangular lattice, it Returns the nsize[0] by nsize[1] triangular lattice graph\n",
    "    def __init__(self, nsize, kind = bethe):\n",
    "        self.kind = kind\n",
    "        self.nsize = nsize\n",
    "    \n",
    "    # First, we create the graph: in the nsize variable we give the parameter that controls the size of the graph\n",
    "    def create_graph(self, pinta = False ):\n",
    "        if self.kind == bethe:\n",
    "            G = nx.balanced_tree(nsize[0], nsize[1])\n",
    "        if self.kind == rrg:\n",
    "            G = nx.random_regular_graph(nsize[0], nsize[1])\n",
    "        if self.kind == tri:\n",
    "            G = nx.triangular_lattice_graph(nsize[0], nsize[1])\n",
    "        if pinta:\n",
    "            nx.draw(G)\n",
    "            print(\"Is it coplanar?\")\n",
    "            print(nx.check_planarity(G))\n",
    "        return G\n",
    "    # This subroutine gives the adjacency matrix or matrix of conecctions. \n",
    "    # It creates its own instance of lattice following the prescription\n",
    "    # in kind. The option dense = True, then retudn the matrix of conections in dense matrix form. \n",
    "    # If dense = False, it gives the matrix of conections in sparse form. If opt = de, it gives two arrays\n",
    "    # with the coorinates of non-zero elements\n",
    "    def give_ad(self, opt = 'de'):\n",
    "        G = self.create_graph()\n",
    "        J = nx.adjacency_matrix(G)\n",
    "        if opt == 'de':\n",
    "            A = J.todense()\n",
    "        elif opt == 'sp':\n",
    "            A = J\n",
    "        elif opt == 'nz':\n",
    "            A = J.nonzero()            \n",
    "        return A\n"
   ]
  },
  {
   "cell_type": "code",
   "execution_count": 6,
   "metadata": {},
   "outputs": [
    {
     "name": "stdout",
     "output_type": "stream",
     "text": [
      "Is it coplanar?\n",
      "(True, <networkx.algorithms.planarity.PlanarEmbedding object at 0x7feb2262d908>)\n",
      "[[0 1 1 1 0 0 0 0 0 0 0 0 0]\n",
      " [1 0 0 0 1 1 1 0 0 0 0 0 0]\n",
      " [1 0 0 0 0 0 0 1 1 1 0 0 0]\n",
      " [1 0 0 0 0 0 0 0 0 0 1 1 1]\n",
      " [0 1 0 0 0 0 0 0 0 0 0 0 0]\n",
      " [0 1 0 0 0 0 0 0 0 0 0 0 0]\n",
      " [0 1 0 0 0 0 0 0 0 0 0 0 0]\n",
      " [0 0 1 0 0 0 0 0 0 0 0 0 0]\n",
      " [0 0 1 0 0 0 0 0 0 0 0 0 0]\n",
      " [0 0 1 0 0 0 0 0 0 0 0 0 0]\n",
      " [0 0 0 1 0 0 0 0 0 0 0 0 0]\n",
      " [0 0 0 1 0 0 0 0 0 0 0 0 0]\n",
      " [0 0 0 1 0 0 0 0 0 0 0 0 0]]\n"
     ]
    },
    {
     "data": {
      "image/png": "[encoded data removed]",
      "text/plain": [
       "<Figure size 432x288 with 1 Axes>"
      ]
     },
     "metadata": {},
     "output_type": "display_data"
    }
   ],
   "source": [
    "# Create a Bethe lattice with branching number 2 and number of generations 4. Branching number \n",
    "# is the number of edges of the root of the lattice. Each node that is not the root has a number of conections \n",
    "# equals to the branching number plus 1. Brunching number is the number of childs, (2 normal >7 Opus Dei)\n",
    "nsize = [3,2]\n",
    "A = graphs(nsize, kind = bethe)\n",
    "G = A.create_graph(pinta = True)\n",
    "J = A.give_ad(opt = 'de')\n",
    "print(J)"
   ]
  },
  {
   "cell_type": "code",
   "execution_count": 8,
   "metadata": {},
   "outputs": [
    {
     "ename": "TypeError",
     "evalue": "adjacency_matrix() missing 1 required positional argument: 'G'",
     "output_type": "error",
     "traceback": [
      "\u001b[0;31m---------------------------------------------------------------------------\u001b[0m",
      "\u001b[0;31mTypeError\u001b[0m                                 Traceback (most recent call last)",
      "\u001b[0;32m<ipython-input-8-4b03a4283ce4>\u001b[0m in \u001b[0;36m<module>\u001b[0;34m\u001b[0m\n\u001b[0;32m----> 1\u001b[0;31m \u001b[0mnx\u001b[0m\u001b[0;34m.\u001b[0m\u001b[0madjacency_matrix\u001b[0m\u001b[0;34m(\u001b[0m\u001b[0;34m)\u001b[0m\u001b[0;34m\u001b[0m\u001b[0;34m\u001b[0m\u001b[0m\n\u001b[0m",
      "\u001b[0;31mTypeError\u001b[0m: adjacency_matrix() missing 1 required positional argument: 'G'"
     ]
    }
   ],
   "source": [
    "nx.adjacency_matrix()"
   ]
  },
  {
   "cell_type": "code",
   "execution_count": null,
   "metadata": {},
   "outputs": [],
   "source": []
  }
 ],
 "metadata": {
  "anaconda-cloud": {},
  "kernelspec": {
   "display_name": "Python 3",
   "language": "python",
   "name": "python3"
  },
  "language_info": {
   "codemirror_mode": {
    "name": "ipython",
    "version": 3
   },
   "file_extension": ".py",
   "mimetype": "text/x-python",
   "name": "python",
   "nbconvert_exporter": "python",
   "pygments_lexer": "ipython3",
   "version": "3.6.10"
  }
 },
 "nbformat": 4,
 "nbformat_minor": 4
}
