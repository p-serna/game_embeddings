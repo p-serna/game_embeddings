{
 "cells": [
  {
   "cell_type": "code",
   "execution_count": 1,
   "metadata": {},
   "outputs": [],
   "source": [
    "import numpy as np\n",
    "import numpy.random as random\n",
    "import matplotlib.pyplot as plt\n",
    "%matplotlib inline\n",
    "from game import game, random_connection_game"
   ]
  },
  {
   "cell_type": "code",
   "execution_count": 2,
   "metadata": {},
   "outputs": [],
   "source": [
    "import time\n",
    "from IPython.display import clear_output"
   ]
  },
  {
   "cell_type": "code",
   "execution_count": 3,
   "metadata": {},
   "outputs": [],
   "source": [
    "Memb = 400\n",
    "newg = random_connection_game(9,  Memb)"
   ]
  },
  {
   "cell_type": "code",
   "execution_count": 4,
   "metadata": {},
   "outputs": [
    {
     "name": "stdout",
     "output_type": "stream",
     "text": [
      "0.00 -0.09 -0.11 0.00 -0.05 0.04 0.00 -0.06 -0.02 \n",
      "-0.09 0.13 0.11 0.08 -0.07 0.00 0.00 -0.04 -0.05 \n",
      "-0.11 0.11 -0.08 -0.16 0.00 -0.05 0.02 0.00 -0.02 \n",
      "0.00 0.08 -0.16 0.06 -0.24 0.15 0.03 -0.04 0.00 \n",
      "-0.05 -0.07 0.00 -0.24 -0.16 -0.08 0.12 -0.04 0.00 \n",
      "0.04 0.00 -0.05 0.15 -0.08 0.00 0.00 0.02 -0.08 \n",
      "0.00 0.00 0.02 0.03 0.12 0.00 -0.05 -0.19 0.10 \n",
      "-0.06 -0.04 0.00 -0.04 -0.04 0.02 -0.19 0.10 0.05 \n",
      "-0.02 -0.05 -0.02 0.00 0.00 -0.08 0.10 0.05 0.00 \n"
     ]
    }
   ],
   "source": [
    "newg.print_original()"
   ]
  },
  {
   "cell_type": "code",
   "execution_count": 5,
   "metadata": {},
   "outputs": [
    {
     "name": "stdout",
     "output_type": "stream",
     "text": [
      "0.00 -0.09 -0.11 0.00 -0.05 0.04 0.00 -0.06 -0.02 \n",
      "-0.09 0.13 0.11 0.08 -0.07 0.00 0.00 -0.04 -0.05 \n",
      "-0.11 0.11 -0.08 -0.16 0.00 -0.05 0.02 0.00 -0.02 \n",
      "0.00 0.08 -0.16 0.06 -0.24 0.15 0.03 -0.04 0.00 \n",
      "-0.05 -0.07 0.00 -0.24 -0.16 -0.08 0.12 -0.04 0.00 \n",
      "0.04 0.00 -0.05 0.15 -0.08 0.00 0.00 0.02 -0.08 \n",
      "0.00 0.00 0.02 0.03 0.12 0.00 -0.05 -0.19 0.10 \n",
      "-0.06 -0.04 0.00 -0.04 -0.04 0.02 -0.19 0.10 0.05 \n",
      "-0.02 -0.05 -0.02 0.00 0.00 -0.08 0.10 0.05 0.00 \n"
     ]
    }
   ],
   "source": [
    "newg.print_original()"
   ]
  },
  {
   "cell_type": "code",
   "execution_count": 6,
   "metadata": {},
   "outputs": [
    {
     "data": {
      "text/plain": [
       "(2, 400, 400)"
      ]
     },
     "execution_count": 6,
     "metadata": {},
     "output_type": "execute_result"
    }
   ],
   "source": [
    "newg.state.shape"
   ]
  },
  {
   "cell_type": "code",
   "execution_count": 7,
   "metadata": {},
   "outputs": [],
   "source": [
    "def randomAgent(state, Memb = 25):\n",
    "    move = random.randint(3)\n",
    "    spin_1 = random.randint(Memb)\n",
    "    spin_2 = random.randint(4)\n",
    "    return (move, spin_1, spin_2)"
   ]
  },
  {
   "cell_type": "code",
   "execution_count": 8,
   "metadata": {},
   "outputs": [],
   "source": [
    "from model.dqn_agent import Agent"
   ]
  },
  {
   "cell_type": "code",
   "execution_count": 9,
   "metadata": {},
   "outputs": [],
   "source": [
    "from model.model import QNetwork_Conv"
   ]
  },
  {
   "cell_type": "code",
   "execution_count": 10,
   "metadata": {},
   "outputs": [],
   "source": [
    "# Reset!\n",
    "Memb = 6*6\n",
    "statesize = Memb*Memb*1+9*9\n",
    "actionsize = 3*Memb*4\n",
    "randomAgent0 = lambda state: randomAgent(state, Memb)\n",
    "#env = game(Hint, Memb = Memb)\n",
    "smartagent0 = Agent(statesize, actionsize, seed = 1,\n",
    "                    embedding_size = Memb, neighbours = 4,\n",
    "                   nu = [32, 64, 128, 128, 64], model = QNetwork_Conv)"
   ]
  },
  {
   "cell_type": "code",
   "execution_count": null,
   "metadata": {},
   "outputs": [],
   "source": []
  },
  {
   "cell_type": "code",
   "execution_count": 11,
   "metadata": {},
   "outputs": [],
   "source": [
    "env = random_connection_game(9,  Memb)\n"
   ]
  },
  {
   "cell_type": "code",
   "execution_count": 12,
   "metadata": {},
   "outputs": [
    {
     "data": {
      "text/plain": [
       "(2, 36, 36)"
      ]
     },
     "execution_count": 12,
     "metadata": {},
     "output_type": "execute_result"
    }
   ],
   "source": [
    "env.state.shape"
   ]
  },
  {
   "cell_type": "code",
   "execution_count": 13,
   "metadata": {
    "scrolled": true
   },
   "outputs": [
    {
     "data": {
      "image/png": "[encoded data removed]",
      "text/plain": [
       "<Figure size 432x288 with 1 Axes>"
      ]
     },
     "metadata": {
      "needs_background": "light"
     },
     "output_type": "display_data"
    },
    {
     "name": "stdout",
     "output_type": "stream",
     "text": [
      "-10.25 19 (2, 19, 3) 15\n"
     ]
    }
   ],
   "source": [
    "env = random_connection_game(9,  Memb, \n",
    "                             max_consecutive_failures = 50)\n",
    "env.reset()\n",
    "#\n",
    "state = env.state\n",
    "fig, ax = env.plot()\n",
    "score = 0.0\n",
    "actions = []\n",
    "for j in range(2000):\n",
    "    clear_output(wait=True)\n",
    "\n",
    "    action = smartagent0.act(state, eps = 1.0)\n",
    "    state, reward, done =env.step(action)\n",
    "    score += reward\n",
    "    actions.append((*action, reward))\n",
    "\n",
    "    fig, ax = env.plot()\n",
    "    plt.show()\n",
    "    print(score, env.N, action, env.terms_left)\n",
    "    if done >0:\n",
    "        break"
   ]
  },
  {
   "cell_type": "code",
   "execution_count": 14,
   "metadata": {},
   "outputs": [
    {
     "data": {
      "text/plain": [
       "8"
      ]
     },
     "execution_count": 14,
     "metadata": {},
     "output_type": "execute_result"
    }
   ],
   "source": [
    "state = env.reset()\n",
    "env.nS"
   ]
  },
  {
   "cell_type": "code",
   "execution_count": 24,
   "metadata": {},
   "outputs": [],
   "source": [
    "import torch"
   ]
  },
  {
   "cell_type": "code",
   "execution_count": 15,
   "metadata": {},
   "outputs": [],
   "source": [
    "from collections import namedtuple, deque\n",
    "\n",
    "def dqn(agent, n_episodes=2000, max_t=2000, \n",
    "        eps_start=1.0, eps_end=0.01, eps_decay=0.999):\n",
    "    \"\"\"Deep Q-Learning.\n",
    "    \n",
    "    Params\n",
    "    ======\n",
    "        n_episodes (int): maximum number of training episodes\n",
    "        max_t (int): maximum number of timesteps per episode\n",
    "        eps_start (float): starting value of epsilon, for epsilon-greedy action selection\n",
    "        eps_end (float): minimum value of epsilon\n",
    "        eps_decay (float): multiplicative factor (per episode) for decreasing epsilon\n",
    "    \"\"\"\n",
    "    scores = []                        # list containing scores from each episode\n",
    "    scores_window = deque(maxlen=100)  # last 100 scores\n",
    "    eps = eps_start                    # initialize epsilon\n",
    "    for i_episode in range(1, n_episodes+1):\n",
    "        state = env.reset()\n",
    "        score = 0\n",
    "        for t in range(max_t):\n",
    "            action = agent.act(state, eps)\n",
    "            next_state, reward, done = env.step(action)\n",
    "            action_tr = action[0]+action[1]*3+action[2]*3*Memb\n",
    "            agent.step(state, action_tr, reward, next_state, done)\n",
    "            state = next_state\n",
    "            score += reward\n",
    "            if done:\n",
    "                break \n",
    "        scores_window.append(score)       # save most recent score\n",
    "        scores.append(score)              # save most recent score\n",
    "        eps = max(eps_end, eps_decay*eps) # decrease epsilon\n",
    "        print('\\rEpisode {}\\tAverage Score: {:.2f}'.format(i_episode, np.mean(scores_window)), end=\"\")\n",
    "        if i_episode % 100 == 0:\n",
    "            print('\\rEpisode {}\\tAverage Score, eps: {:.2f}, {:.2f}'.format(i_episode, np.mean(scores_window), eps))\n",
    "        if np.mean(scores_window)>=3.0:\n",
    "            print('\\nEnvironment solved in {:d} episodes!\\tAverage Score: {:.2f}'.format(i_episode-100, np.mean(scores_window)))\n",
    "            torch.save(agent.qnetwork_online.state_dict(), 'checkpoint.pth')\n",
    "            break\n",
    "    return scores"
   ]
  },
  {
   "cell_type": "code",
   "execution_count": 16,
   "metadata": {
    "scrolled": true
   },
   "outputs": [
    {
     "name": "stdout",
     "output_type": "stream",
     "text": [
      "Episode 100\tAverage Score, eps: -10.54, 0.90\n",
      "Episode 200\tAverage Score, eps: -10.26, 0.82\n",
      "Episode 300\tAverage Score, eps: -10.35, 0.74\n",
      "Episode 400\tAverage Score, eps: -10.56, 0.67\n",
      "Episode 500\tAverage Score, eps: -9.98, 0.61\n",
      "Episode 600\tAverage Score, eps: -9.77, 0.55\n",
      "Episode 700\tAverage Score, eps: -9.13, 0.50\n",
      "Episode 800\tAverage Score, eps: -9.71, 0.45\n",
      "Episode 900\tAverage Score, eps: -9.60, 0.41\n",
      "Episode 1000\tAverage Score, eps: -9.39, 0.37\n",
      "Episode 1100\tAverage Score, eps: -9.40, 0.33\n",
      "Episode 1200\tAverage Score, eps: -9.44, 0.30\n",
      "Episode 1300\tAverage Score, eps: -9.28, 0.27\n",
      "Episode 1400\tAverage Score, eps: -9.36, 0.25\n",
      "Episode 1500\tAverage Score, eps: -9.28, 0.22\n",
      "Episode 1600\tAverage Score, eps: -8.83, 0.20\n",
      "Episode 1700\tAverage Score, eps: -8.55, 0.18\n",
      "Episode 1800\tAverage Score, eps: -8.58, 0.17\n",
      "Episode 1900\tAverage Score, eps: -8.46, 0.15\n",
      "Episode 2000\tAverage Score, eps: -7.96, 0.14\n"
     ]
    }
   ],
   "source": [
    "scores = dqn(smartagent0, n_episodes=2000)"
   ]
  },
  {
   "cell_type": "code",
   "execution_count": 17,
   "metadata": {},
   "outputs": [
    {
     "data": {
      "text/plain": [
       "[<matplotlib.lines.Line2D at 0x7f69c294d978>]"
      ]
     },
     "execution_count": 17,
     "metadata": {},
     "output_type": "execute_result"
    },
    {
     "data": {
      "image/png": "[encoded data removed]",
      "text/plain": [
       "<Figure size 432x288 with 1 Axes>"
      ]
     },
     "metadata": {
      "needs_background": "light"
     },
     "output_type": "display_data"
    }
   ],
   "source": [
    "plt.plot(scores)"
   ]
  },
  {
   "cell_type": "code",
   "execution_count": 19,
   "metadata": {},
   "outputs": [
    {
     "name": "stdout",
     "output_type": "stream",
     "text": [
      "Episode 100\tAverage Score, eps: -8.18, 0.14\n",
      "Episode 200\tAverage Score, eps: -7.92, 0.12\n",
      "Episode 300\tAverage Score, eps: -8.13, 0.11\n",
      "Episode 400\tAverage Score, eps: -7.74, 0.10\n",
      "Episode 500\tAverage Score, eps: -8.39, 0.09\n",
      "Episode 600\tAverage Score, eps: -7.45, 0.08\n",
      "Episode 700\tAverage Score, eps: -7.91, 0.07\n",
      "Episode 800\tAverage Score, eps: -7.42, 0.07\n",
      "Episode 900\tAverage Score, eps: -7.48, 0.06\n",
      "Episode 1000\tAverage Score, eps: -7.00, 0.06\n",
      "Episode 1100\tAverage Score, eps: -7.28, 0.05\n",
      "Episode 1200\tAverage Score, eps: -7.24, 0.05\n",
      "Episode 1300\tAverage Score, eps: -7.29, 0.04\n",
      "Episode 1400\tAverage Score, eps: -7.42, 0.04\n",
      "Episode 1500\tAverage Score, eps: -7.32, 0.03\n",
      "Episode 1600\tAverage Score, eps: -6.76, 0.03\n",
      "Episode 1700\tAverage Score, eps: -7.20, 0.03\n",
      "Episode 1800\tAverage Score, eps: -6.57, 0.02\n",
      "Episode 1900\tAverage Score, eps: -6.95, 0.02\n",
      "Episode 2000\tAverage Score, eps: -7.01, 0.02\n"
     ]
    }
   ],
   "source": [
    "scores2 = dqn(smartagent0, n_episodes=2000, eps_start= 0.15)"
   ]
  },
  {
   "cell_type": "code",
   "execution_count": 22,
   "metadata": {},
   "outputs": [
    {
     "data": {
      "text/plain": [
       "[<matplotlib.lines.Line2D at 0x7f6978d81908>]"
      ]
     },
     "execution_count": 22,
     "metadata": {},
     "output_type": "execute_result"
    },
    {
     "data": {
      "image/png": "[encoded data removed]",
      "text/plain": [
       "<Figure size 432x288 with 1 Axes>"
      ]
     },
     "metadata": {
      "needs_background": "light"
     },
     "output_type": "display_data"
    }
   ],
   "source": [
    "idx = np.arange(len(scores2))+len(scores)\n",
    "plt.plot(scores)\n",
    "plt.plot(idx,scores2)"
   ]
  },
  {
   "cell_type": "code",
   "execution_count": 26,
   "metadata": {},
   "outputs": [],
   "source": [
    "torch.save(smartagent0.qnetwork_online.state_dict(), 'checkpoint.pth')"
   ]
  },
  {
   "cell_type": "code",
   "execution_count": 20,
   "metadata": {},
   "outputs": [
    {
     "data": {
      "image/png": "[encoded data removed]",
      "text/plain": [
       "<Figure size 432x288 with 1 Axes>"
      ]
     },
     "metadata": {
      "needs_background": "light"
     },
     "output_type": "display_data"
    },
    {
     "name": "stdout",
     "output_type": "stream",
     "text": [
      "-12.25 24 (0, 14, 3) 42\n"
     ]
    }
   ],
   "source": [
    "#Memb = 6*6\n",
    "env = random_connection_game(9,  Memb, \n",
    "                             max_consecutive_failures = 50)\n",
    "\n",
    "state = env.reset()\n",
    "fig, ax = env.plot()\n",
    "score = 0.0\n",
    "actions = []\n",
    "for j in range(2000):\n",
    "    clear_output(wait=True)\n",
    "\n",
    "    action = smartagent0.act(state, eps = 1.0)\n",
    "    state, reward, done =env.step(action)\n",
    "    score += reward\n",
    "    actions.append((*action, reward))\n",
    "\n",
    "    fig, ax = env.plot()\n",
    "    plt.show()\n",
    "    print(score, env.N, action, env.terms_left)\n",
    "    if done >0:\n",
    "        break"
   ]
  },
  {
   "cell_type": "code",
   "execution_count": null,
   "metadata": {},
   "outputs": [],
   "source": []
  }
 ],
 "metadata": {
  "kernelspec": {
   "display_name": "Python 3",
   "language": "python",
   "name": "python3"
  },
  "language_info": {
   "codemirror_mode": {
    "name": "ipython",
    "version": 3
   },
   "file_extension": ".py",
   "mimetype": "text/x-python",
   "name": "python",
   "nbconvert_exporter": "python",
   "pygments_lexer": "ipython3",
   "version": "3.6.10"
  }
 },
 "nbformat": 4,
 "nbformat_minor": 4
}
