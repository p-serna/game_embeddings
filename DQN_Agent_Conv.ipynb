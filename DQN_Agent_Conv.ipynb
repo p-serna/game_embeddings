{
 "cells": [
  {
   "cell_type": "code",
   "execution_count": 1,
   "metadata": {},
   "outputs": [],
   "source": [
    "import numpy as np\n",
    "import numpy.random as random\n",
    "import matplotlib.pyplot as plt\n",
    "%matplotlib inline\n",
    "from game import game, random_connection_game"
   ]
  },
  {
   "cell_type": "code",
   "execution_count": 2,
   "metadata": {},
   "outputs": [],
   "source": [
    "import time\n",
    "from IPython.display import clear_output"
   ]
  },
  {
   "cell_type": "code",
   "execution_count": 3,
   "metadata": {},
   "outputs": [],
   "source": [
    "Memb = 400\n",
    "newg = random_connection_game(9,  Memb)"
   ]
  },
  {
   "cell_type": "code",
   "execution_count": 4,
   "metadata": {},
   "outputs": [
    {
     "name": "stdout",
     "output_type": "stream",
     "text": [
      "0.05 -0.19 0.00 0.03 -0.02 -0.03 -0.05 -0.02 0.06 \n",
      "-0.19 0.09 -0.07 0.00 0.07 -0.03 -0.06 -0.03 -0.04 \n",
      "0.00 -0.07 -0.13 0.00 0.00 -0.14 -0.08 -0.03 0.00 \n",
      "0.03 0.00 0.00 0.00 0.03 -0.05 0.00 -0.10 -0.04 \n",
      "-0.02 0.07 0.00 0.03 0.09 -0.03 0.00 -0.04 0.00 \n",
      "-0.03 -0.03 -0.14 -0.05 -0.03 0.00 0.02 0.08 0.09 \n",
      "-0.05 -0.06 -0.08 0.00 0.00 0.02 0.11 0.08 0.08 \n",
      "-0.02 -0.03 -0.03 -0.10 -0.04 0.08 0.08 0.04 -0.06 \n",
      "0.06 -0.04 0.00 -0.04 0.00 0.09 0.08 -0.06 0.15 \n"
     ]
    }
   ],
   "source": [
    "newg.print_original()"
   ]
  },
  {
   "cell_type": "code",
   "execution_count": 5,
   "metadata": {},
   "outputs": [
    {
     "name": "stdout",
     "output_type": "stream",
     "text": [
      "0.05 -0.19 0.00 0.03 -0.02 -0.03 -0.05 -0.02 0.06 \n",
      "-0.19 0.09 -0.07 0.00 0.07 -0.03 -0.06 -0.03 -0.04 \n",
      "0.00 -0.07 -0.13 0.00 0.00 -0.14 -0.08 -0.03 0.00 \n",
      "0.03 0.00 0.00 0.00 0.03 -0.05 0.00 -0.10 -0.04 \n",
      "-0.02 0.07 0.00 0.03 0.09 -0.03 0.00 -0.04 0.00 \n",
      "-0.03 -0.03 -0.14 -0.05 -0.03 0.00 0.02 0.08 0.09 \n",
      "-0.05 -0.06 -0.08 0.00 0.00 0.02 0.11 0.08 0.08 \n",
      "-0.02 -0.03 -0.03 -0.10 -0.04 0.08 0.08 0.04 -0.06 \n",
      "0.06 -0.04 0.00 -0.04 0.00 0.09 0.08 -0.06 0.15 \n"
     ]
    }
   ],
   "source": [
    "newg.print_original()"
   ]
  },
  {
   "cell_type": "code",
   "execution_count": 6,
   "metadata": {},
   "outputs": [
    {
     "data": {
      "text/plain": [
       "(2, 400, 400)"
      ]
     },
     "execution_count": 6,
     "metadata": {},
     "output_type": "execute_result"
    }
   ],
   "source": [
    "newg.state.shape"
   ]
  },
  {
   "cell_type": "code",
   "execution_count": 7,
   "metadata": {},
   "outputs": [],
   "source": [
    "def randomAgent(state, Memb = 25):\n",
    "    #move = random.randint(3)\n",
    "    spin_1 = random.randint(Memb)\n",
    "    spin_2 = random.randint(4)\n",
    "    return (spin_1, spin_2)"
   ]
  },
  {
   "cell_type": "code",
   "execution_count": 8,
   "metadata": {},
   "outputs": [],
   "source": [
    "from model.dqn_agent import Agent"
   ]
  },
  {
   "cell_type": "code",
   "execution_count": 9,
   "metadata": {},
   "outputs": [],
   "source": [
    "from model.model import QNetwork_Conv"
   ]
  },
  {
   "cell_type": "code",
   "execution_count": 20,
   "metadata": {},
   "outputs": [],
   "source": [
    "# Reset!\n",
    "Memb = 6*6\n",
    "statesize = Memb*Memb*1+9*9\n",
    "actionsize = Memb*4\n",
    "randomAgent0 = lambda state: randomAgent(state, Memb)\n",
    "#env = game(Hint, Memb = Memb)\n",
    "smartagent0 = Agent(statesize, actionsize, seed = 1,\n",
    "                    embedding_size = Memb, neighbours = 4,\n",
    "                   nu = [64, 64, 256, 128, 128, 128], model = QNetwork_Conv)\n",
    "\n",
    "#                   nu = [32, 64, 64, 64, 64], model = QNetwork_Conv)\n"
   ]
  },
  {
   "cell_type": "code",
   "execution_count": null,
   "metadata": {},
   "outputs": [],
   "source": []
  },
  {
   "cell_type": "code",
   "execution_count": 21,
   "metadata": {},
   "outputs": [],
   "source": [
    "env = random_connection_game(5,  Memb)\n"
   ]
  },
  {
   "cell_type": "code",
   "execution_count": 22,
   "metadata": {},
   "outputs": [
    {
     "data": {
      "text/plain": [
       "(30, 0)"
      ]
     },
     "execution_count": 22,
     "metadata": {},
     "output_type": "execute_result"
    }
   ],
   "source": [
    "state = env.reset()\n",
    "smartagent0.act(state, eps = 1.0)"
   ]
  },
  {
   "cell_type": "code",
   "execution_count": 23,
   "metadata": {},
   "outputs": [
    {
     "name": "stdout",
     "output_type": "stream",
     "text": [
      "4 0 1\n",
      "1 (4, 1) 10\n"
     ]
    },
    {
     "data": {
      "image/png": "[encoded data removed]",
      "text/plain": [
       "<Figure size 432x288 with 1 Axes>"
      ]
     },
     "metadata": {
      "needs_background": "light"
     },
     "output_type": "display_data"
    }
   ],
   "source": [
    "action = smartagent0.act(state, eps = 1.0)\n",
    "state, reward, done =env.step(action)\n",
    "env.plot()\n",
    "print(action[0]%6, action[0]//6, action[1])\n",
    "print(env.N, action, env.terms_left)\n"
   ]
  },
  {
   "cell_type": "code",
   "execution_count": 24,
   "metadata": {
    "scrolled": true
   },
   "outputs": [
    {
     "data": {
      "image/png": "[encoded data removed]",
      "text/plain": [
       "<Figure size 432x288 with 1 Axes>"
      ]
     },
     "metadata": {
      "needs_background": "light"
     },
     "output_type": "display_data"
    },
    {
     "name": "stdout",
     "output_type": "stream",
     "text": [
      "-34.69999999999998 35 (10, 3) 2\n"
     ]
    }
   ],
   "source": [
    "env = random_connection_game(4,  Memb, \n",
    "                             max_consecutive_failures = 50)\n",
    "env.reset()\n",
    "#\n",
    "state = env.state\n",
    "fig, ax = env.plot()\n",
    "score = 0.0\n",
    "actions = []\n",
    "for j in range(100):\n",
    "    clear_output(wait=True)\n",
    "    #randomAgent(state, Memb)#\n",
    "    action = smartagent0.act(state, eps = 0.0)\n",
    "    state, reward, done =env.step(action)\n",
    "    score += reward\n",
    "    actions.append((*action, reward))\n",
    "\n",
    "    fig, ax = env.plot()\n",
    "    plt.show()\n",
    "    print(score, env.N, action, env.terms_left)\n",
    "    if done >0:\n",
    "        break"
   ]
  },
  {
   "cell_type": "code",
   "execution_count": 25,
   "metadata": {},
   "outputs": [
    {
     "data": {
      "text/plain": [
       "4"
      ]
     },
     "execution_count": 25,
     "metadata": {},
     "output_type": "execute_result"
    }
   ],
   "source": [
    "state = env.reset()\n",
    "env.nS"
   ]
  },
  {
   "cell_type": "code",
   "execution_count": 26,
   "metadata": {},
   "outputs": [],
   "source": [
    "import torch"
   ]
  },
  {
   "cell_type": "code",
   "execution_count": 27,
   "metadata": {},
   "outputs": [],
   "source": [
    "from collections import namedtuple, deque\n",
    "\n",
    "def dqn(agent, n_episodes=2000, max_t=2000, \n",
    "        eps_start=1.0, eps_end=0.01, eps_decay=0.999):\n",
    "    \"\"\"Deep Q-Learning.\n",
    "    \n",
    "    Params\n",
    "    ======\n",
    "        n_episodes (int): maximum number of training episodes\n",
    "        max_t (int): maximum number of timesteps per episode\n",
    "        eps_start (float): starting value of epsilon, for epsilon-greedy action selection\n",
    "        eps_end (float): minimum value of epsilon\n",
    "        eps_decay (float): multiplicative factor (per episode) for decreasing epsilon\n",
    "    \"\"\"\n",
    "    scores = []                        # list containing scores from each episode\n",
    "    scores_window = deque(maxlen=100)  # last 100 scores\n",
    "    eps = eps_start                    # initialize epsilon\n",
    "    for i_episode in range(1, n_episodes+1):\n",
    "        state = env.reset()\n",
    "        score = 0\n",
    "        for t in range(max_t):\n",
    "            action = agent.act(state, eps)\n",
    "            next_state, reward, done = env.step(action)\n",
    "            action_tr = action[0]+action[1]*Memb\n",
    "            agent.step(state, action_tr, reward, next_state, done)\n",
    "            state = next_state\n",
    "            score += reward\n",
    "            if done:\n",
    "                break \n",
    "        scores_window.append(score)       # save most recent score\n",
    "        scores.append(score)              # save most recent score\n",
    "        eps = max(eps_end, eps_decay*eps) # decrease epsilon\n",
    "        print('\\rEpisode {}\\tAverage Score: {:.2f}'.format(i_episode, np.mean(scores_window)), end=\"\")\n",
    "        if i_episode % 100 == 0:\n",
    "            print('\\rEpisode {}\\tAverage Score, eps: {:.2f}, {:.2f}'.format(i_episode, np.mean(scores_window), eps))\n",
    "        if np.mean(scores_window)>=3.0:\n",
    "            print('\\nEnvironment solved in {:d} episodes!\\tAverage Score: {:.2f}'.format(i_episode-100, np.mean(scores_window)))\n",
    "            torch.save(agent.qnetwork_online.state_dict(), 'checkpoint.pth')\n",
    "            break\n",
    "    return scores"
   ]
  },
  {
   "cell_type": "code",
   "execution_count": 28,
   "metadata": {
    "scrolled": true
   },
   "outputs": [
    {
     "name": "stdout",
     "output_type": "stream",
     "text": [
      "Episode 100\tAverage Score, eps: -35.71, 0.90\n",
      "Episode 200\tAverage Score, eps: -38.41, 0.82\n",
      "Episode 300\tAverage Score, eps: -36.13, 0.74\n",
      "Episode 400\tAverage Score, eps: -37.75, 0.67\n",
      "Episode 500\tAverage Score, eps: -39.05, 0.61\n",
      "Episode 600\tAverage Score, eps: -39.30, 0.55\n",
      "Episode 700\tAverage Score, eps: -38.98, 0.50\n",
      "Episode 800\tAverage Score, eps: -39.06, 0.45\n",
      "Episode 900\tAverage Score, eps: -39.14, 0.41\n",
      "Episode 1000\tAverage Score, eps: -42.03, 0.37\n",
      "Episode 1100\tAverage Score, eps: -37.92, 0.33\n",
      "Episode 1200\tAverage Score, eps: -38.54, 0.30\n",
      "Episode 1300\tAverage Score, eps: -39.49, 0.27\n",
      "Episode 1400\tAverage Score, eps: -38.54, 0.25\n",
      "Episode 1500\tAverage Score, eps: -37.87, 0.22\n",
      "Episode 1600\tAverage Score, eps: -40.51, 0.20\n",
      "Episode 1700\tAverage Score, eps: -39.58, 0.18\n",
      "Episode 1800\tAverage Score, eps: -38.34, 0.17\n",
      "Episode 1900\tAverage Score, eps: -38.76, 0.15\n",
      "Episode 2000\tAverage Score, eps: -37.87, 0.14\n"
     ]
    }
   ],
   "source": [
    "scores = dqn(smartagent0, n_episodes=2000)"
   ]
  },
  {
   "cell_type": "code",
   "execution_count": null,
   "metadata": {},
   "outputs": [],
   "source": [
    "plt.plot(scores)"
   ]
  },
  {
   "cell_type": "code",
   "execution_count": null,
   "metadata": {},
   "outputs": [],
   "source": [
    "scores2 = dqn(smartagent0, n_episodes=10000, eps_start= 0.15, eps_decay = 0.9995)"
   ]
  },
  {
   "cell_type": "code",
   "execution_count": null,
   "metadata": {},
   "outputs": [],
   "source": [
    "scores2 = dqn(smartagent0, n_episodes=2000, eps_start= 0.15)"
   ]
  },
  {
   "cell_type": "code",
   "execution_count": null,
   "metadata": {},
   "outputs": [],
   "source": [
    "scores3 = dqn(smartagent0, n_episodes=2000, eps_start= 0.3)"
   ]
  },
  {
   "cell_type": "code",
   "execution_count": null,
   "metadata": {},
   "outputs": [],
   "source": [
    "idx = np.arange(len(scores2))+len(scores)\n",
    "plt.plot(scores)\n",
    "plt.plot(idx,scores2)"
   ]
  },
  {
   "cell_type": "code",
   "execution_count": null,
   "metadata": {},
   "outputs": [],
   "source": [
    "torch.save(smartagent0.qnetwork_online.state_dict(), 'checkpoint.pth')"
   ]
  },
  {
   "cell_type": "code",
   "execution_count": 19,
   "metadata": {
    "scrolled": false
   },
   "outputs": [
    {
     "data": {
      "image/png": "[encoded data removed]",
      "text/plain": [
       "<Figure size 432x288 with 1 Axes>"
      ]
     },
     "metadata": {
      "needs_background": "light"
     },
     "output_type": "display_data"
    },
    {
     "name": "stdout",
     "output_type": "stream",
     "text": [
      "-34.599999999999966 36 (29, 1) 5\n"
     ]
    }
   ],
   "source": [
    "env = random_connection_game(4,  Memb, \n",
    "                             max_consecutive_failures = 50)\n",
    "\n",
    "state = env.reset()\n",
    "fig, ax = env.plot()\n",
    "score = 0.0\n",
    "actions = []\n",
    "for j in range(2000):\n",
    "    clear_output(wait=True)\n",
    "\n",
    "    action = smartagent0.act(state, eps = 0.0)\n",
    "    state, reward, done =env.step(action)\n",
    "    score += reward\n",
    "    actions.append((*action, reward))\n",
    "\n",
    "    fig, ax = env.plot()\n",
    "    plt.show()\n",
    "    print(score, env.N, action, env.terms_left)\n",
    "    if done >0:\n",
    "        break"
   ]
  },
  {
   "cell_type": "code",
   "execution_count": 36,
   "metadata": {},
   "outputs": [],
   "source": [
    "def step_ext(self, move):\n",
    "    self.reward = 0.0\n",
    "\n",
    "    if self.N0<self.nS:\n",
    "        self.add_new_spin(move[0])\n",
    "    else:    \n",
    "        spinpos_1 = self.posS[move[0]%self.N] \n",
    "        j = self.get_neighbours(spinpos_1, move[1])\n",
    "        js = np.array([self.get_neighbours(spinpos_1, (move[1]+k)%4) \n",
    "                      for k in range(4)])\n",
    "\n",
    "        sel = (js > -1)\n",
    "        if sel.sum()>0:\n",
    "            js = js[sel]\n",
    "            idcs = np.arange(js.shape[0])\n",
    "            i = spinpos_1\n",
    "            print(i, js,':', i%self.Lx, i//self.Lx)\n",
    "            for idx in idcs:\n",
    "                j = js[idx]\n",
    "                i0 = self.uniqS[i] \n",
    "                j0 = self.uniqS[j]\n",
    "                print(i0, j0, j)\n",
    "                if i0 != j0 and j0 == -1:\n",
    "                    self.copy_spin(i,j)\n",
    "                    print('Copied?')\n",
    "                    break\n",
    "                else:\n",
    "                    jint0 = self.Hmask[i0,j0]\n",
    "                    if jint0>0.0:\n",
    "                        self.add_interaction(i,j)\n",
    "\n",
    "                        print('Added?')\n",
    "                        break\n",
    "                    else:\n",
    "                        pass\n",
    "\n",
    "        else:\n",
    "            self.number_nomoves += 1\n",
    "\n",
    "            self.update_score(-1)\n",
    "\n",
    "    self.state = self.get_state()\n",
    "\n",
    "    if (self.Hmask>0).sum()==0:\n",
    "        self.reward += self.nS\n",
    "        self.score += self.reward\n",
    "        self.finished = 1 # Won\n",
    "    elif self.N == self.Memb:\n",
    "        self.reward -= self.nS\n",
    "        self.score += self.reward\n",
    "        self.finished = 1 # Lost\n",
    "    if self.number_nomoves > self.max_confailures:\n",
    "        self.reward -= self.nS\n",
    "        self.score += self.reward\n",
    "        self.finished = 1\n",
    "\n",
    "    return self.state, self.reward, self.finished\n",
    "env.step = step_ext"
   ]
  },
  {
   "cell_type": "code",
   "execution_count": 59,
   "metadata": {},
   "outputs": [
    {
     "name": "stdout",
     "output_type": "stream",
     "text": [
      "16 4 [ 9 30 26 15 15 15 15  9 30 30  9  9 26 26 26 26  0  0  0  0  0  0  0  0\n",
      "  0  0  0  0  0  0  0  0  0  0  0  0]\n",
      "15 [ 9 16 14 21] : 3 2\n",
      "3 0 9\n",
      "3 3 16\n",
      "3 3 14\n",
      "3 3 21\n",
      "3 0 3\n",
      "16 (3, 3) 8\n"
     ]
    },
    {
     "data": {
      "image/png": "[encoded data removed]",
      "text/plain": [
       "<Figure size 432x288 with 1 Axes>"
      ]
     },
     "metadata": {
      "needs_background": "light"
     },
     "output_type": "display_data"
    }
   ],
   "source": [
    "print(env.N, env.N0, env.posS)\n",
    "action = (3,3)\n",
    "state, reward, done =env.step(env,action)\n",
    "env.plot()\n",
    "print(action[0]%6, action[0]//6, action[1])\n",
    "print(env.N, action, env.terms_left)\n"
   ]
  },
  {
   "cell_type": "code",
   "execution_count": 29,
   "metadata": {},
   "outputs": [
    {
     "data": {
      "text/plain": [
       "3"
      ]
     },
     "execution_count": 29,
     "metadata": {},
     "output_type": "execute_result"
    }
   ],
   "source": [
    "env.uniqS[2+6+6]"
   ]
  },
  {
   "cell_type": "code",
   "execution_count": 31,
   "metadata": {},
   "outputs": [
    {
     "data": {
      "text/plain": [
       "array([[0., 0., 1., 0.],\n",
       "       [0., 0., 1., 1.],\n",
       "       [1., 1., 0., 1.],\n",
       "       [0., 1., 1., 0.]])"
      ]
     },
     "execution_count": 31,
     "metadata": {},
     "output_type": "execute_result"
    }
   ],
   "source": [
    "env.Hmask[:env.nS,:env.nS]"
   ]
  },
  {
   "cell_type": "code",
   "execution_count": null,
   "metadata": {},
   "outputs": [],
   "source": [
    "np.random.choice?"
   ]
  },
  {
   "cell_type": "code",
   "execution_count": null,
   "metadata": {},
   "outputs": [],
   "source": [
    "plt.plot(np.array(actions)[:,0],'.')"
   ]
  },
  {
   "cell_type": "code",
   "execution_count": null,
   "metadata": {},
   "outputs": [],
   "source": []
  }
 ],
 "metadata": {
  "kernelspec": {
   "display_name": "Python 3",
   "language": "python",
   "name": "python3"
  },
  "language_info": {
   "codemirror_mode": {
    "name": "ipython",
    "version": 3
   },
   "file_extension": ".py",
   "mimetype": "text/x-python",
   "name": "python",
   "nbconvert_exporter": "python",
   "pygments_lexer": "ipython3",
   "version": "3.6.10"
  }
 },
 "nbformat": 4,
 "nbformat_minor": 4
}
