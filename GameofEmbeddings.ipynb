{
 "cells": [
  {
   "cell_type": "code",
   "execution_count": 1,
   "metadata": {},
   "outputs": [],
   "source": [
    "import numpy as np\n",
    "import matplotlib.pyplot as plt\n",
    "%matplotlib inline"
   ]
  },
  {
   "cell_type": "code",
   "execution_count": 2,
   "metadata": {},
   "outputs": [],
   "source": [
    "import numpy.random as random"
   ]
  },
  {
   "cell_type": "code",
   "metadata": {},
   "outputs": [],
   "source": [
    "def square_lattice(i,j, Lx = None, Ly = None): \n",
    "    ''' Square lattice with close boundary conditions\n",
    "    '''\n",
    "    neighbours = []\n",
    "    if i+1<Lx:\n",
    "        neighbours.append([i+1,j])\n",
    "    if i-1> -1:\n",
    "        neighbours.append([i-1,j])\n",
    "    if j+1<Ly:\n",
    "        neighbours.append([i,j+1])\n",
    "    if j-1> -1:\n",
    "        neighbours.append([i,j-1])\n",
    "        \n",
    "    return neighbours\n",
    "    \n",
    "class game:\n",
    "    def __init__(self, H, Memb = None, Ls = None, lattice = square_lattice):\n",
    "        '''\n",
    "        Three possible moves:   1. add new spin\n",
    "                                2. copy a spin\n",
    "                                3. add interaction\n",
    "        \n",
    "        Input:\n",
    "         - H: initial hamiltonian that will be translated to architecture \n",
    "         - Memb: Number of sites where embedded hamiltonian is defined\n",
    "         - Ls: tuple with linear sizes if Memb is not a perfect root\n",
    "         - lattice: function that for site i,j gives a list of neighbours, e.g.\n",
    "                     [[i+1,j],[i-1,j],[i,j+1],[i+1,j-1]]\n",
    "                     (default: square lattice with closed boundary conditions)\n",
    "         \n",
    "        Methods implemented:\n",
    "         ....\n",
    "        '''\n",
    "        # Copy of the original hamiltonian \n",
    "        self.H = np.array(H)\n",
    "        # Copy of the hamiltonian that will be used for the game\n",
    "        self.Hrest = np.array(H)\n",
    "\n",
    "        # number of spins\n",
    "        self.nS = H.shape[0]\n",
    "        \n",
    "        if Memb is None:\n",
    "            self.Hemb = H*0.0\n",
    "            self.Memb = self.nS\n",
    "        else:\n",
    "            self.Hemb = np.zeros((Memb, Memb))\n",
    "            self.Memb = Memb\n",
    "        \n",
    "        # whether it has been used or not        \n",
    "        self.usedS = np.zeros(self.Memb)\n",
    "        # array of unique spins\n",
    "        self.uniqS = np.zeros(self.Memb, dtype=int)-1\n",
    "        # indices of original spin that it might be copy of\n",
    "        self.origS = np.zeros(self.Memb) \n",
    "        \n",
    "        # Linear sizes\n",
    "        if Ls is None:\n",
    "            L = np.int(np.sqrt(self.Memb))\n",
    "            self.Lx, self.Ly = L, L\n",
    "        else:\n",
    "            self.Lx, self,Ly = Ls[0], Ls[1]\n",
    "        \n",
    "        # Number of spins and unique spins\n",
    "        self.N = 0\n",
    "        self.N0 = 0\n",
    "        # lattice function\n",
    "        self.lattice = lattice\n",
    "        \n",
    "        # State: turn of copying or adding a new one\n",
    "        self.copyadd = 1\n",
    "        self.empty_sites = self.Memb\n",
    "        self.terms_left = (self.Hrest>0).sum()\n",
    "        self.finished = 0\n",
    "        self.score = 0\n",
    "        \n",
    "    def get_state(self):\n",
    "        return self.Hnew, self.copyadd\n",
    "    \n",
    "    def get_poss_actions(self):\n",
    "        actions = []\n",
    "        if self.copyadd:\n",
    "            pass\n",
    "        else:\n",
    "            pass\n",
    "        \n",
    "    \n",
    "    def __len__(self):\n",
    "        return self.N\n",
    "    \n",
    "    \n",
    "    def add_new_spin(self, i):\n",
    "        '''\n",
    "          - i: index of new spin or row in hamiltonian\n",
    "          \n",
    "        '''\n",
    "        if self.uniqS[i]==-1:\n",
    "            self.uniqS[i] = self.N0\n",
    "            self.usedS[i] = 1\n",
    "\n",
    "\n",
    "            # Interacting terms that we use\n",
    "            h0 = self.Hrest[self.N0, self.N0]*1.0\n",
    "            self.Hrest[self.N0, self.N0] = 0.0\n",
    "            \n",
    "            self.Hemb[i,i] = h0\n",
    "\n",
    "            self.N += 1\n",
    "            self.N0 += 1\n",
    "            self.empty_sites -= 1\n",
    "            self.terms_left -= 1\n",
    "            update_score(0)\n",
    "        else:\n",
    "            #It's already occupied\n",
    "            pass\n",
    "    \n",
    "    def copy_spin(self, i, j, fer_int = 1.0):\n",
    "        if self.uniqS[i]> -1:\n",
    "            self.uniqS[j] = self.uniqS[i]\n",
    "            self.usedS[j] = 1\n",
    "            self.Hemb[i,j] = fer_int\n",
    "            self.Hemb[j,i] = fer_int\n",
    "            self.Hemb[j,j] = self.Hemb[i,i]*1.0\n",
    "\n",
    "            self.N += 1\n",
    "            self.empty_sites -= 1\n",
    "            update_score(1)\n",
    "\n",
    "        else:\n",
    "            #Nothing!\n",
    "            pass\n",
    "            \n",
    "    def add_interaction(self, i, j, jint = None):\n",
    "        '''\n",
    "          - i, j: indices of (neighbouring) sites to connect\n",
    "        '''\n",
    "        \n",
    "        i0 = self.uniqS[i] \n",
    "        j0 = self.uniqS[j]\n",
    "        \n",
    "        if i0> -1 and j0> -1:\n",
    "            jint = self.Hrest[i0,j0]\n",
    "            if np.abs(jint)>0.0:\n",
    "                print(jint,i0,j0)\n",
    "                self.Hemb[i,j] = jint\n",
    "                self.Hemb[j,i] = jint\n",
    "\n",
    "                self.Hrest[i0,j0] = 0.0\n",
    "                self.Hrest[j0,i0] = 0.0\n",
    "\n",
    "                self.terms_left -= 2\n",
    "                update_score(2)\n",
    "        else:\n",
    "            # At least one of them does not exists\n",
    "            pass\n",
    "        \n",
    "        \n",
    "    def update_score(i):\n",
    "        if i == 0:\n",
    "            # Added new spin\n",
    "            self.score += 0.5\n",
    "        elif i == 1:\n",
    "            # Copied spin\n",
    "            self.score -= 0.5\n",
    "        elif i == 2:\n",
    "            # Added interaction\n",
    "            self.score += 0.25\n",
    "            \n",
    "        if self.N>self.nS:\n",
    "            self.score -= 0.5\n",
    "        \n",
    "        \n",
    "    def get_neighbours(self, i):\n",
    "        ix, iy = i%self.Lx, i//self.Lx\n",
    "        return self.lattice(ix, iy, self.Lx, self.Ly)\n",
    "    \n",
    "    def print(self):\n",
    "        for i in range(self.Hemb.shape[0]):\n",
    "            stre = self.Memb*'{:.2f} '\n",
    "            print(stre.format(*self.Hemb[i,:]))\n",
    "            \n",
    "    def plot(self, ax = None, **kwargs):\n",
    "        if ax is None:\n",
    "            fig, ax = plt.subplots(1,1, **kwargs)\n",
    "        \n",
    "        idc0 = np.arange(self.Memb)\n",
    "        idcs = idc0[self.usedS==1]\n",
    "        ix, iy = idcs%self.Lx, idcs//self.Lx\n",
    "        \n",
    "        \n",
    "        #print(idcs)\n",
    "        xx = []\n",
    "        yy = []\n",
    "        uu = []\n",
    "        vv = []\n",
    "        cc = []\n",
    "        if len(idcs)>2:\n",
    "            for i0, i in enumerate(idcs):\n",
    "                ix0, iy0 = i%self.Lx, i//self.Lx\n",
    "                idc1 = idc0[np.abs(self.Hemb[i,:])>0]\n",
    "                sel = idc1!= i \n",
    "                if len(idc1[sel])>0:\n",
    "                    idc1 = idc1[sel]\n",
    "                    ix1, iy1 = idc1%self.Lx, idc1//self.Lx\n",
    "                    \n",
    "                    xx.extend(ix0+ix1*0)\n",
    "                    yy.extend(iy0+iy1*0) \n",
    "                    uu.extend(ix1-ix0) \n",
    "                    vv.extend(iy1-iy0)\n",
    "                    cc.extend(self.Hemb[i,idc1])\n",
    "            xx = np.array(xx)\n",
    "            yy = np.array(yy)\n",
    "            uu = np.array(uu)\n",
    "            vv = np.array(vv)\n",
    "            cc = np.array(cc)\n",
    "        sel = np.abs(cc)<1\n",
    "        ax.quiver(xx[sel],yy[sel],uu[sel],vv[sel],cc[sel],\n",
    "            scale = self.Lx, headwidth = 0, cmap='seismic' )\n",
    "        sel = ~(np.abs(cc)<1)\n",
    "        print(sel.sum())\n",
    "        ax.quiver(xx[sel],yy[sel],uu[sel],vv[sel], color = 'black',\n",
    "            scale = self.Lx, headwidth = 0, linewidths = 3.5, edgecolors='k')\n",
    "        ax.quiver(xx[sel],yy[sel],uu[sel],vv[sel], color = 'white',\n",
    "            scale = self.Lx, headwidth = 0, linewidths = 0.5,  edgecolors='white')\n",
    "         \n",
    "        ax.scatter(ix,iy)\n",
    "\n",
    "        #ax.quiver\n",
    "        ax.set_aspect('equal')\n",
    "        #ax.set_clim(-1,1)\n",
    "\n",
    "        ax.set_xlim(-0.05,self.Lx+0.05)\n",
    "        ax.set_ylim(-0.05,self.Ly+0.05)\n",
    "        return fig, ax"
   ]
  },
  {
   "cell_type": "code",
   "execution_count": 11,
   "metadata": {},
   "outputs": [],
   "source": [
    "Hint = random.randn(9,9)"
   ]
  },
  {
   "cell_type": "code",
   "execution_count": 12,
   "metadata": {},
   "outputs": [],
   "source": [
    "Hint = Hint +Hint.transpose()"
   ]
  },
  {
   "cell_type": "code",
   "execution_count": 13,
   "metadata": {},
   "outputs": [],
   "source": [
    "newg = game(Hint, Memb = 16)"
   ]
  },
  {
   "cell_type": "code",
   "execution_count": 14,
   "metadata": {},
   "outputs": [
    {
     "data": {
      "text/plain": [
       "16"
      ]
     },
     "execution_count": 14,
     "metadata": {},
     "output_type": "execute_result"
    }
   ],
   "source": [
    "newg.Memb"
   ]
  },
  {
   "cell_type": "code",
   "execution_count": 15,
   "metadata": {},
   "outputs": [
    {
     "name": "stdout",
     "output_type": "stream",
     "text": [
      "0.6393883141086245 0 1\n",
      "-1.834263849057943 0 3\n"
     ]
    },
    {
     "data": {
      "image/png": "[encoded data removed]",
      "text/plain": [
       "<Figure size 432x288 with 1 Axes>"
      ]
     },
     "metadata": {
      "needs_background": "light"
     },
     "output_type": "display_data"
    }
   ],
   "source": [
    "newg.add_new_spin(10)\n",
    "newg.add_new_spin(11)\n",
    "newg.add_interaction(10,11)\n",
    "newg.add_new_spin(5)\n",
    "newg.add_new_spin(6)\n",
    "newg.add_interaction(10,6)\n",
    "\n",
    "#newg.add_new_spin(11)\n",
    "#newg.add_new_spin(15)\n",
    "#newg.add_new_spin(7)\n",
    "\n",
    "fig, ax = newg.plot()\n",
    "#ax.quiver([[0,1,2], [1,1,1]],[1,1,1],[0,0,0,0,0,0])"
   ]
  },
  {
   "cell_type": "code",
   "execution_count": 16,
   "metadata": {},
   "outputs": [
    {
     "name": "stdout",
     "output_type": "stream",
     "text": [
      "0.00 0.00 0.00 0.00 0.00 0.00 0.00 0.00 0.00 0.00 0.00 0.00 0.00 0.00 0.00 0.00 \n",
      "0.00 0.00 0.00 0.00 0.00 0.00 0.00 0.00 0.00 0.00 0.00 0.00 0.00 0.00 0.00 0.00 \n",
      "0.00 0.00 0.00 0.00 0.00 0.00 0.00 0.00 0.00 0.00 0.00 0.00 0.00 0.00 0.00 0.00 \n",
      "0.00 0.00 0.00 0.00 0.00 0.00 0.00 0.00 0.00 0.00 0.00 0.00 0.00 0.00 0.00 0.00 \n",
      "0.00 0.00 0.00 0.00 0.00 0.00 0.00 0.00 0.00 0.00 0.00 0.00 0.00 0.00 0.00 0.00 \n",
      "0.00 0.00 0.00 0.00 0.00 -1.97 0.00 0.00 0.00 0.00 0.00 0.00 0.00 0.00 0.00 0.00 \n",
      "0.00 0.00 0.00 0.00 0.00 0.00 1.36 0.00 0.00 0.00 -1.83 0.00 0.00 0.00 0.00 0.00 \n",
      "0.00 0.00 0.00 0.00 0.00 0.00 0.00 0.00 0.00 0.00 0.00 0.00 0.00 0.00 0.00 0.00 \n",
      "0.00 0.00 0.00 0.00 0.00 0.00 0.00 0.00 0.00 0.00 0.00 0.00 0.00 0.00 0.00 0.00 \n",
      "0.00 0.00 0.00 0.00 0.00 0.00 0.00 0.00 0.00 0.00 0.00 0.00 0.00 0.00 0.00 0.00 \n",
      "0.00 0.00 0.00 0.00 0.00 0.00 -1.83 0.00 0.00 0.00 0.24 0.64 0.00 0.00 0.00 0.00 \n",
      "0.00 0.00 0.00 0.00 0.00 0.00 0.00 0.00 0.00 0.00 0.64 -0.17 0.00 0.00 0.00 0.00 \n",
      "0.00 0.00 0.00 0.00 0.00 0.00 0.00 0.00 0.00 0.00 0.00 0.00 0.00 0.00 0.00 0.00 \n",
      "0.00 0.00 0.00 0.00 0.00 0.00 0.00 0.00 0.00 0.00 0.00 0.00 0.00 0.00 0.00 0.00 \n",
      "0.00 0.00 0.00 0.00 0.00 0.00 0.00 0.00 0.00 0.00 0.00 0.00 0.00 0.00 0.00 0.00 \n",
      "0.00 0.00 0.00 0.00 0.00 0.00 0.00 0.00 0.00 0.00 0.00 0.00 0.00 0.00 0.00 0.00 \n"
     ]
    }
   ],
   "source": [
    "newg.print()"
   ]
  },
  {
   "cell_type": "code",
   "execution_count": 229,
   "metadata": {},
   "outputs": [
    {
     "name": "stdout",
     "output_type": "stream",
     "text": [
      "-0.0767023068094895 0 1\n",
      "0.2777121488987669 0 2\n",
      "-0.12945573705413901 0 3\n",
      "-0.0065126512057544945 1 3\n",
      "0.03687954457167869 1 2\n",
      "0.03659186268239184 3 2\n",
      "0.00 -100000.00 0.00 -0.01 0.00 0.00 0.00 0.00 0.00 \n",
      "-100000.00 0.00 -100000.00 0.00 0.00 0.00 0.00 0.00 0.00 \n",
      "0.00 -100000.00 0.00 0.00 0.00 -100000.00 0.00 0.00 0.00 \n",
      "-0.01 0.00 0.00 0.00 -0.13 0.00 -100000.00 0.00 0.00 \n",
      "0.00 0.00 0.00 -0.13 0.00 -0.08 0.00 0.28 0.00 \n",
      "0.00 0.00 -100000.00 0.00 -0.08 0.00 0.00 0.00 -100000.00 \n",
      "0.00 0.00 0.00 -100000.00 0.00 0.00 0.00 0.04 0.00 \n",
      "0.00 0.00 0.00 0.00 0.28 0.00 0.04 0.00 0.04 \n",
      "0.00 0.00 0.00 0.00 0.00 -100000.00 0.00 0.04 0.00 \n",
      "10\n"
     ]
    },
    {
     "data": {
      "image/png": "[encoded data removed]",
      "text/plain": [
       "<Figure size 432x288 with 1 Axes>"
      ]
     },
     "metadata": {
      "needs_background": "light"
     },
     "output_type": "display_data"
    }
   ],
   "source": [
    "Hint = random.randn(4,4)\n",
    "Hint = (Hint +Hint.transpose())*.2/2.0\n",
    "for i in range(Hint.shape[0]):\n",
    "    Hint[i,i] = 0.0\n",
    "newg = game(Hint, Memb = 9)\n",
    "\n",
    "newg.add_new_spin(4)\n",
    "newg.add_new_spin(5)\n",
    "newg.add_new_spin(7)\n",
    "newg.add_new_spin(3)\n",
    "\n",
    "# interaction spins 0,1\n",
    "newg.add_interaction(4,5)\n",
    "\n",
    "\n",
    "# interaction spins 0,2 and 0,3\n",
    "newg.add_interaction(4,7)\n",
    "newg.add_interaction(4,3)\n",
    "\n",
    "# interaction spins 1,2\n",
    "newg.copy_spin(5,2,fer_int = -1e5)\n",
    "newg.copy_spin(2,1,fer_int = -1e5)\n",
    "newg.copy_spin(1,0,fer_int = -1e5)\n",
    "newg.add_interaction(0,3)\n",
    "# and 1,3\n",
    "newg.copy_spin(5,8,fer_int = -1e5)\n",
    "newg.add_interaction(8,7)\n",
    "# and 2,3\n",
    "newg.copy_spin(3,6,fer_int = -1e5)\n",
    "newg.add_interaction(6,7)\n",
    "\n",
    "newg.print()\n",
    "fig, ax = newg.plot()"
   ]
  },
  {
   "cell_type": "code",
   "execution_count": 230,
   "metadata": {},
   "outputs": [
    {
     "data": {
      "text/plain": [
       "(array([[0., 0., 0., 0.],\n",
       "        [0., 0., 0., 0.],\n",
       "        [0., 0., 0., 0.],\n",
       "        [0., 0., 0., 0.]]),\n",
       " array([[ 0.        , -0.07670231,  0.27771215, -0.12945574],\n",
       "        [-0.07670231,  0.        ,  0.03687954, -0.00651265],\n",
       "        [ 0.27771215,  0.03687954,  0.        ,  0.03659186],\n",
       "        [-0.12945574, -0.00651265,  0.03659186,  0.        ]]))"
      ]
     },
     "execution_count": 230,
     "metadata": {},
     "output_type": "execute_result"
    }
   ],
   "source": [
    "newg.Hrest, newg.H"
   ]
  },
  {
   "cell_type": "code",
   "execution_count": 231,
   "metadata": {},
   "outputs": [],
   "source": [
    "from scipy.linalg import eigvals, eig"
   ]
  },
  {
   "cell_type": "code",
   "execution_count": 225,
   "metadata": {},
   "outputs": [
    {
     "data": {
      "text/plain": [
       "array([0.00000000e+00, 6.90508718e-02, 6.90508718e-02, 9.99924099e+01,\n",
       "       9.99924099e+01, 1.00007783e+02, 1.00007783e+02, 1.73205091e+02,\n",
       "       1.73205091e+02])"
      ]
     },
     "execution_count": 225,
     "metadata": {},
     "output_type": "execute_result"
    }
   ],
   "source": [
    "eHemb = np.abs(eigvals(newg.Hemb))\n",
    "eHemb.sort()\n",
    "eHemb-eHemb.min()"
   ]
  },
  {
   "cell_type": "code",
   "execution_count": 226,
   "metadata": {},
   "outputs": [
    {
     "data": {
      "text/plain": [
       "array([0.        , 0.00815394, 0.14493225, 0.15308619])"
      ]
     },
     "execution_count": 226,
     "metadata": {},
     "output_type": "execute_result"
    }
   ],
   "source": [
    "eH = np.abs(eigvals(newg.H))\n",
    "eH.sort()\n",
    "eH-eH.min()"
   ]
  },
  {
   "cell_type": "markdown",
   "metadata": {},
   "source": [
    "## Brute force to find the interactions - Diagonalizing"
   ]
  },
  {
   "cell_type": "code",
   "execution_count": 314,
   "metadata": {},
   "outputs": [],
   "source": [
    "Hint = random.randn(4,4)\n",
    "Hint = (Hint +Hint.transpose())*.2/2.0\n",
    "for i in range(Hint.shape[0]):\n",
    "    Hint[i,i] = 0.0\n",
    "    \n",
    "def create_newmat(cf):\n",
    "    newg = game(Hint, Memb = 9)\n",
    "\n",
    "    newg.add_new_spin(4)\n",
    "    newg.add_new_spin(5)\n",
    "    newg.add_new_spin(7)\n",
    "    newg.add_new_spin(3)\n",
    "\n",
    "    # interaction spins 0,1\n",
    "    newg.add_interaction(4,5, jint = cf[0])\n",
    "\n",
    "\n",
    "    # interaction spins 0,2 and 0,3\n",
    "    newg.add_interaction(4,7, jint = cf[1])\n",
    "    newg.add_interaction(4,3, jint = cf[2])\n",
    "\n",
    "    # interaction spins 1,2\n",
    "    newg.copy_spin(5,2,fer_int =  cf[6])\n",
    "    newg.copy_spin(2,1,fer_int = cf[7])\n",
    "    newg.copy_spin(1,0,fer_int = cf[8])\n",
    "    newg.add_interaction(0,3, jint = cf[3])\n",
    "    # and 1,3\n",
    "    newg.copy_spin(5,8,fer_int = cf[9])\n",
    "    newg.add_interaction(8,7, jint = cf[4])\n",
    "    # and 2,3\n",
    "    newg.copy_spin(3,6,fer_int = cf[10])\n",
    "    newg.add_interaction(6,7, jint = cf[5])\n",
    "    return newg\n",
    "def chi2_phi0(cf):\n",
    "    newg = create_newmat(cf)\n",
    "    hemb0 = eig(newg.Hemb)[1][0]\n",
    "    eH0 =  eig(newg.H)[1][0]\n",
    "    hemb0 = hemb0[np.array([4,5,7,3])]\n",
    "    return np.sum((hemb0-eH0)**2)\n",
    "\n",
    "def chi2_E0(cf):\n",
    "    newg = create_newmat(cf)\n",
    "    hemb0 = np.abs(eig(newg.Hemb)[0])\n",
    "    eH0 = np.abs( eig(newg.H)[0])\n",
    "    hemb0 = hemb0[:len(eH0)]\n",
    "    hemb0.sort()\n",
    "    eH0.sort()\n",
    "    return np.sum((hemb0-eH0)**2)"
   ]
  },
  {
   "cell_type": "code",
   "execution_count": 315,
   "metadata": {},
   "outputs": [
    {
     "data": {
      "text/plain": [
       "(2.09295444404802, 4.941470638973257)"
      ]
     },
     "execution_count": 315,
     "metadata": {},
     "output_type": "execute_result"
    }
   ],
   "source": [
    "cf0 = np.random.randn(11)\n",
    "chi2_phi0(cf0), chi2_E0(cf0)"
   ]
  },
  {
   "cell_type": "code",
   "execution_count": 316,
   "metadata": {},
   "outputs": [],
   "source": [
    "from scipy.optimize import minimize"
   ]
  },
  {
   "cell_type": "code",
   "execution_count": 317,
   "metadata": {},
   "outputs": [
    {
     "data": {
      "text/plain": [
       "array([ 1.71662480e-02, -9.47337971e-01, -9.63731012e-02,  1.88753456e-01,\n",
       "        7.58703251e-02, -1.12121072e+00, -1.65789477e-03,  4.27411750e-01,\n",
       "       -6.51753620e-01, -1.84378627e+00,  6.61197771e-02])"
      ]
     },
     "execution_count": 317,
     "metadata": {},
     "output_type": "execute_result"
    }
   ],
   "source": [
    "minx = minimize(chi2_phi0, np.array(cf0) , method = 'Nelder-Mead')\n",
    "minx.x"
   ]
  },
  {
   "cell_type": "code",
   "execution_count": 318,
   "metadata": {},
   "outputs": [
    {
     "name": "stdout",
     "output_type": "stream",
     "text": [
      "[-0.94319685  0.15557765  0.29277786 -0.02136376] [-0.40962134  0.23377262  0.00095984 -0.23377262]\n"
     ]
    }
   ],
   "source": [
    "newg = create_newmat(minx.x)\n",
    "hemb0 = eig(newg.Hemb)[1][0]\n",
    "eH0 =  eig(newg.H)[1][0]\n",
    "hemb0 = hemb0[np.array([4,5,7,3])]\n",
    "print(eH0, hemb0)"
   ]
  },
  {
   "cell_type": "code",
   "execution_count": 319,
   "metadata": {},
   "outputs": [
    {
     "data": {
      "text/plain": [
       "array([ 0.0174872 ,  0.0800361 , -0.15917211,  0.33714476,  0.16374086,\n",
       "       -0.2880308 , -0.00075733,  0.16823028, -0.09861873, -0.29782544,\n",
       "        0.1137321 ])"
      ]
     },
     "execution_count": 319,
     "metadata": {},
     "output_type": "execute_result"
    }
   ],
   "source": [
    "minx = minimize(chi2_E0, np.array(cf0) , method = 'Nelder-Mead')\n",
    "minx.x"
   ]
  },
  {
   "cell_type": "code",
   "execution_count": 320,
   "metadata": {},
   "outputs": [
    {
     "name": "stdout",
     "output_type": "stream",
     "text": [
      "[0.01174857 0.07742759 0.16189732 0.22757634] [1.57874265e-17 1.58550866e-01 1.58550866e-01 2.21076481e-01\n",
      " 2.21076481e-01 3.56728556e-01 3.56728556e-01 4.40319129e-01\n",
      " 4.40319129e-01]\n"
     ]
    },
    {
     "data": {
      "text/plain": [
       "[<matplotlib.lines.Line2D at 0x7f4c2bff7220>]"
      ]
     },
     "execution_count": 320,
     "metadata": {},
     "output_type": "execute_result"
    },
    {
     "data": {
      "image/png": "[encoded data removed]",
      "text/plain": [
       "<Figure size 432x288 with 1 Axes>"
      ]
     },
     "metadata": {
      "needs_background": "light"
     },
     "output_type": "display_data"
    }
   ],
   "source": [
    "newg = create_newmat(minx.x)\n",
    "hemb0 = np.abs(eig(newg.Hemb)[0])\n",
    "eH0 = np.abs( eig(newg.H)[0])\n",
    "hemb0.sort()\n",
    "eH0.sort()\n",
    "#hemb0 = hemb0[:len(eH0)]\n",
    "print(eH0, hemb0)\n",
    "plt.plot(eH0,'.')\n",
    "plt.plot(hemb0,'.')"
   ]
  },
  {
   "cell_type": "code",
   "execution_count": null,
   "metadata": {},
   "outputs": [],
   "source": []
  },
  {
   "cell_type": "code",
   "execution_count": null,
   "metadata": {},
   "outputs": [],
   "source": []
  },
  {
   "cell_type": "code",
   "execution_count": null,
   "metadata": {},
   "outputs": [],
   "source": [
    "#1406.2741\n",
    "def findMinorEmbedding(game0, nmax = 1000):\n",
    "    stage = 1\n",
    "    suma = 0\n",
    "    maxa = 0\n",
    "    for it in range(nmax):\n",
    "        \n",
    "        if stage>2:\n",
    "            break\n",
    "        if sumn==suma:\n",
    "            break\n",
    "        if maxn==maxa:\n",
    "            break\n",
    "    \n",
    "def shuffle_vertex(game0):\n",
    "    pass\n",
    "    return game0"
   ]
  }
 ],
 "metadata": {
  "kernelspec": {
   "display_name": "Python 3",
   "language": "python",
   "name": "python3"
  },
  "language_info": {
   "codemirror_mode": {
    "name": "ipython",
    "version": 3
   },
   "file_extension": ".py",
   "mimetype": "text/x-python",
   "name": "python",
   "nbconvert_exporter": "python",
   "pygments_lexer": "ipython3",
   "version": "3.8.0"
  }
 },
 "nbformat": 4,
 "nbformat_minor": 2
}
