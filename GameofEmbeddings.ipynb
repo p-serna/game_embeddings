{
 "cells": [
  {
   "cell_type": "code",
   "execution_count": 1,
   "metadata": {},
   "outputs": [],
   "source": [
    "import numpy as np\n",
    "import matplotlib.pyplot as plt\n",
    "%matplotlib inline"
   ]
  },
  {
   "cell_type": "code",
   "execution_count": 2,
   "metadata": {},
   "outputs": [],
   "source": [
    "import numpy.random as random"
   ]
  },
  {
   "cell_type": "code",
   "execution_count": 163,
   "metadata": {},
   "outputs": [],
   "source": [
    "def square_lattice(i,j, Lx = None, Ly = None): \n",
    "    ''' Square lattice with close boundary conditions\n",
    "    '''\n",
    "    neighbours = []\n",
    "    if i+1<Lx:\n",
    "        neighbours.append([i+1,j])\n",
    "    if i-1> -1:\n",
    "        neighbours.append([i-1,j])\n",
    "    if j+1<Ly:\n",
    "        neighbours.append([i,j+1])\n",
    "    if j-1> -1:\n",
    "        neighbours.append([i,j-1])\n",
    "        \n",
    "    return neighbours\n",
    "    \n",
    "class game:\n",
    "    def __init__(self, H, Memb = None, Ls = None, lattice = square_lattice):\n",
    "        '''\n",
    "        \n",
    "        Input:\n",
    "         - H: initial hamiltonian that will be translated to architecture \n",
    "         - Memb: Number of sites where embedded hamiltonian is defined\n",
    "         - Ls: tuple with linear sizes if Memb is not a perfect root\n",
    "         - lattice: function that for site i,j gives a list of neighbours, e.g.\n",
    "                     [[i+1,j],[i-1,j],[i,j+1],[i+1,j-1]]\n",
    "                     (default: square lattice with closed boundary conditions)\n",
    "         \n",
    "        Methods implemented:\n",
    "         ....\n",
    "        '''\n",
    "        # Copy of the original hamiltonian \n",
    "        self.H = np.array(H)\n",
    "        # Copy of the hamiltonian that will be used for the game\n",
    "        self.Hrest = np.array(H)\n",
    "\n",
    "        # number of spins\n",
    "        self.nS = H.shape[0]\n",
    "        \n",
    "        if Memb is None:\n",
    "            self.Hemb = H*0.0\n",
    "            self.Memb = self.nS\n",
    "        else:\n",
    "            self.Hemb = np.zeros((Memb, Memb))\n",
    "            self.Memb = Memb\n",
    "        \n",
    "        # whether it has been used or not        \n",
    "        self.usedS = np.zeros(self.Memb)\n",
    "        # array of unique spins\n",
    "        self.uniqS = np.zeros(self.Memb, dtype=int)-1\n",
    "        # indices of original spin that it might be copy of\n",
    "        self.origS = np.zeros(self.Memb) \n",
    "        \n",
    "        # Linear sizes\n",
    "        if Ls is None:\n",
    "            L = np.int(np.sqrt(self.Memb))\n",
    "            self.Lx, self.Ly = L, L\n",
    "        else:\n",
    "            self.Lx, self,Ly = Ls[0], Ls[1]\n",
    "        \n",
    "        # Number of spins and unique spins\n",
    "        self.N = 0\n",
    "        self.N0 = 0\n",
    "        # lattice function\n",
    "        self.lattice = lattice\n",
    "        \n",
    "        # State: turn of copying or adding a new one\n",
    "        self.copyadd = 1\n",
    "        \n",
    "        \n",
    "    def get_state(self):\n",
    "        return self.Hnew, self.copyadd\n",
    "    \n",
    "    def get_poss_actions(self):\n",
    "        actions = []\n",
    "        if self.copyadd:\n",
    "            pass\n",
    "        else:\n",
    "            pass\n",
    "        \n",
    "    \n",
    "    def __len__(self):\n",
    "        return self.N\n",
    "    \n",
    "    def copy_spin(self, i, j):\n",
    "        if i<0 or i>N:\n",
    "            return 0\n",
    "        if j<0 or j>N:\n",
    "            return 0\n",
    "        \n",
    "        self.N += 1\n",
    "        self.Hemb[i,j] = 1.0\n",
    "        self.Hemb[j,i] = 1.0\n",
    "        \n",
    "    #     def add_new_spin(self, i, interactions = [[0,0]]):\n",
    "    #         '''\n",
    "    #           - i: index of original spin or row in hamiltonian\n",
    "    #           - interactions: list of pairs, where each pair:\n",
    "    #                            [column of interacting term, index of neighbour]\n",
    "    #         '''\n",
    "    #         self.uniqS[i] = N0\n",
    "    #         self.usedS[N] = 1\n",
    "\n",
    "\n",
    "    #         # Interacting terms that we use\n",
    "    #         sel = np.arange(nS)[np.abs(self.Hrest[N0,:])>0.0]\n",
    "    #         idx_terms = np.array([i for i,j in interactions])\n",
    "    #         int_terms = 1.0*self.Hrest[i,sel[idx_terms]]\n",
    "    #         # Remove those from Hrest\n",
    "    #         self.Hrest[i,sel[idx_terms]] = 0.0\n",
    "\n",
    "    #         neighbours = self.get_neighbours(i)[np.array([j for i,j in interactions])]\n",
    "    #         for site, jint in zip(neighbours, int_terms):\n",
    "    #             j = site[1]*self.Lx+site[0]\n",
    "    #             j0 = self.uniqS[j]\n",
    "    #             if j0>-1:\n",
    "    #                 # if self.usedS[j]==1:\n",
    "    #                 #     self.Hemb[i,j] = jint\n",
    "    #                 #     self.Hemb[j,i] = jint\n",
    "    #                 # print(j)\n",
    "    #                 self.Hemb[i,j] = jint\n",
    "    #                 self.Hemb[j,i] = jint\n",
    "\n",
    "    #         self.N += 1\n",
    "    #         self.N0 += 1\n",
    "    \n",
    "    def add_new_spin(self, i):\n",
    "        '''\n",
    "          - i: index of new spin or row in hamiltonian\n",
    "          \n",
    "        '''\n",
    "        if self.uniqS[i]==-1:\n",
    "            self.uniqS[i] = self.N0\n",
    "            self.usedS[i] = 1\n",
    "\n",
    "\n",
    "            # Interacting terms that we use\n",
    "            h0 = self.Hrest[self.N0, self.N0]*1.0\n",
    "            self.Hrest[self.N0, self.N0] = 0.0\n",
    "\n",
    "            self.Hemb[i,i] = h0\n",
    "\n",
    "            self.N += 1\n",
    "            self.N0 += 1\n",
    "        else:\n",
    "            #It's already occupied\n",
    "            pass\n",
    "    \n",
    "    def copy_spin(self, i, j, fer_int = 1.0):\n",
    "        if self.uniqS[i]> -1:\n",
    "            self.uniqS[j] = self.uniqS[i]\n",
    "            self.usedS[j] = 1\n",
    "            self.Hemb[i,j] = fer_int\n",
    "            self.Hemb[j,i] = fer_int\n",
    "            self.Hemb[j,j] = self.Hemb[i,i]*1.0\n",
    "\n",
    "            self.N += 1\n",
    "        else:\n",
    "            #Nothing!\n",
    "            pass\n",
    "            \n",
    "    def add_interaction(self, i, j):\n",
    "        '''\n",
    "          - i, j: indices of (neighbouring) sites to connect\n",
    "        '''\n",
    "        \n",
    "        i0 = self.uniqS[i] \n",
    "        j0 = self.uniqS[j]\n",
    "        \n",
    "        if i0> -1 and j0> -1:\n",
    "            jint = self.Hrest[i0,j0]\n",
    "            print(jint,i0,j0)\n",
    "            self.Hemb[i,j] = jint\n",
    "            self.Hemb[j,i] = jint\n",
    "\n",
    "            self.Hrest[i0,j0] = 0.0\n",
    "            self.Hrest[j0,i0] = 0.0\n",
    "        else:\n",
    "            # At least one of them does not exists\n",
    "            pass\n",
    "        \n",
    "        \n",
    "    def get_neighbours(self, i):\n",
    "        ix, iy = i%self.Lx, i//self.Lx\n",
    "        return self.lattice(ix, iy, self.Lx, self.Ly)\n",
    "    \n",
    "    def print(self):\n",
    "        for i in range(self.Hemb.shape[0]):\n",
    "            stre = self.Memb*'{:.2f} '\n",
    "            print(stre.format(*self.Hemb[i,:]))\n",
    "            \n",
    "    def plot(self, ax = None, **kwargs):\n",
    "        if ax is None:\n",
    "            fig, ax = plt.subplots(1,1, **kwargs)\n",
    "        \n",
    "        idc0 = np.arange(self.Memb)\n",
    "        idcs = idc0[self.usedS==1]\n",
    "        ix, iy = idcs%self.Lx, idcs//self.Lx\n",
    "        \n",
    "        \n",
    "        #print(idcs)\n",
    "        xx = []\n",
    "        yy = []\n",
    "        uu = []\n",
    "        vv = []\n",
    "        cc = []\n",
    "        if len(idcs)>2:\n",
    "            for i0, i in enumerate(idcs):\n",
    "                ix0, iy0 = i%self.Lx, i//self.Lx\n",
    "                idc1 = idc0[np.abs(self.Hemb[i,:])>0]\n",
    "                sel = idc1!= i \n",
    "                if len(idc1[sel])>0:\n",
    "                    idc1 = idc1[sel]\n",
    "                    ix1, iy1 = idc1%self.Lx, idc1//self.Lx\n",
    "                    \n",
    "                    xx.extend(ix0+ix1*0)\n",
    "                    yy.extend(iy0+iy1*0) \n",
    "                    uu.extend(ix1-ix0) \n",
    "                    vv.extend(iy1-iy0)\n",
    "                    cc.extend(self.Hemb[i,idc1])\n",
    "            xx = np.array(xx)\n",
    "            yy = np.array(yy)\n",
    "            uu = np.array(uu)\n",
    "            vv = np.array(vv)\n",
    "            cc = np.array(cc)\n",
    "        sel = cc<1\n",
    "        ax.quiver(xx[sel],yy[sel],uu[sel],vv[sel],cc[sel],\n",
    "            scale = self.Lx, headwidth = 0, cmap='seismic' )\n",
    "        sel = ~(cc<1)\n",
    "        print(sel.sum())\n",
    "        ax.quiver(xx[sel],yy[sel],uu[sel],vv[sel], color = 'black',\n",
    "            scale = self.Lx, headwidth = 0, linewidths = 3.5, edgecolors='k')\n",
    "        ax.quiver(xx[sel],yy[sel],uu[sel],vv[sel], color = 'white',\n",
    "            scale = self.Lx, headwidth = 0, linewidths = 0.5,  edgecolors='white')\n",
    "         \n",
    "        ax.scatter(ix,iy)\n",
    "\n",
    "        #ax.quiver\n",
    "        ax.set_aspect('equal')\n",
    "        #ax.set_clim(-1,1)\n",
    "\n",
    "        ax.set_xlim(-0.05,self.Lx+0.05)\n",
    "        ax.set_ylim(-0.05,self.Ly+0.05)\n",
    "        return fig, ax"
   ]
  },
  {
   "cell_type": "code",
   "execution_count": 164,
   "metadata": {},
   "outputs": [],
   "source": [
    "Hint = random.randn(9,9)"
   ]
  },
  {
   "cell_type": "code",
   "execution_count": 165,
   "metadata": {},
   "outputs": [],
   "source": [
    "Hint = Hint +Hint.transpose()"
   ]
  },
  {
   "cell_type": "code",
   "execution_count": 166,
   "metadata": {},
   "outputs": [],
   "source": [
    "newg = game(Hint, Memb = 16)"
   ]
  },
  {
   "cell_type": "code",
   "execution_count": 167,
   "metadata": {},
   "outputs": [
    {
     "data": {
      "text/plain": [
       "16"
      ]
     },
     "execution_count": 167,
     "metadata": {},
     "output_type": "execute_result"
    }
   ],
   "source": [
    "newg.Memb"
   ]
  },
  {
   "cell_type": "code",
   "execution_count": 168,
   "metadata": {},
   "outputs": [
    {
     "name": "stdout",
     "output_type": "stream",
     "text": [
      "-1.347936879409497 0 1\n",
      "1.7873316022045367 0 3\n",
      "2\n"
     ]
    },
    {
     "data": {
      "image/png": "[encoded data removed]",
      "text/plain": [
       "<Figure size 432x288 with 1 Axes>"
      ]
     },
     "metadata": {
      "needs_background": "light"
     },
     "output_type": "display_data"
    }
   ],
   "source": [
    "newg.add_new_spin(10)\n",
    "newg.add_new_spin(11)\n",
    "newg.add_interaction(10,11)\n",
    "newg.add_new_spin(5)\n",
    "newg.add_new_spin(6)\n",
    "newg.add_interaction(10,6)\n",
    "\n",
    "#newg.add_new_spin(11)\n",
    "#newg.add_new_spin(15)\n",
    "#newg.add_new_spin(7)\n",
    "\n",
    "fig, ax = newg.plot()\n",
    "#ax.quiver([[0,1,2], [1,1,1]],[1,1,1],[0,0,0,0,0,0])"
   ]
  },
  {
   "cell_type": "code",
   "execution_count": 169,
   "metadata": {},
   "outputs": [
    {
     "name": "stdout",
     "output_type": "stream",
     "text": [
      "0.00 0.00 0.00 0.00 0.00 0.00 0.00 0.00 0.00 0.00 0.00 0.00 0.00 0.00 0.00 0.00 \n",
      "0.00 0.00 0.00 0.00 0.00 0.00 0.00 0.00 0.00 0.00 0.00 0.00 0.00 0.00 0.00 0.00 \n",
      "0.00 0.00 0.00 0.00 0.00 0.00 0.00 0.00 0.00 0.00 0.00 0.00 0.00 0.00 0.00 0.00 \n",
      "0.00 0.00 0.00 0.00 0.00 0.00 0.00 0.00 0.00 0.00 0.00 0.00 0.00 0.00 0.00 0.00 \n",
      "0.00 0.00 0.00 0.00 0.00 0.00 0.00 0.00 0.00 0.00 0.00 0.00 0.00 0.00 0.00 0.00 \n",
      "0.00 0.00 0.00 0.00 0.00 -1.73 0.00 0.00 0.00 0.00 0.00 0.00 0.00 0.00 0.00 0.00 \n",
      "0.00 0.00 0.00 0.00 0.00 0.00 -0.84 0.00 0.00 0.00 1.79 0.00 0.00 0.00 0.00 0.00 \n",
      "0.00 0.00 0.00 0.00 0.00 0.00 0.00 0.00 0.00 0.00 0.00 0.00 0.00 0.00 0.00 0.00 \n",
      "0.00 0.00 0.00 0.00 0.00 0.00 0.00 0.00 0.00 0.00 0.00 0.00 0.00 0.00 0.00 0.00 \n",
      "0.00 0.00 0.00 0.00 0.00 0.00 0.00 0.00 0.00 0.00 0.00 0.00 0.00 0.00 0.00 0.00 \n",
      "0.00 0.00 0.00 0.00 0.00 0.00 1.79 0.00 0.00 0.00 -0.58 -1.35 0.00 0.00 0.00 0.00 \n",
      "0.00 0.00 0.00 0.00 0.00 0.00 0.00 0.00 0.00 0.00 -1.35 1.03 0.00 0.00 0.00 0.00 \n",
      "0.00 0.00 0.00 0.00 0.00 0.00 0.00 0.00 0.00 0.00 0.00 0.00 0.00 0.00 0.00 0.00 \n",
      "0.00 0.00 0.00 0.00 0.00 0.00 0.00 0.00 0.00 0.00 0.00 0.00 0.00 0.00 0.00 0.00 \n",
      "0.00 0.00 0.00 0.00 0.00 0.00 0.00 0.00 0.00 0.00 0.00 0.00 0.00 0.00 0.00 0.00 \n",
      "0.00 0.00 0.00 0.00 0.00 0.00 0.00 0.00 0.00 0.00 0.00 0.00 0.00 0.00 0.00 0.00 \n"
     ]
    }
   ],
   "source": [
    "newg.print()"
   ]
  },
  {
   "cell_type": "code",
   "execution_count": 183,
   "metadata": {},
   "outputs": [
    {
     "name": "stdout",
     "output_type": "stream",
     "text": [
      "-0.25240988164296624 0 1\n",
      "0.28875965916159757 0 2\n",
      "-0.16006509105101474 0 3\n",
      "-0.07761310910895775 1 3\n",
      "0.03320643513674686 1 2\n",
      "-0.14583605036441785 3 2\n",
      "0.00 1000.00 0.00 -0.08 0.00 0.00 0.00 0.00 0.00 \n",
      "1000.00 0.00 1000.00 0.00 0.00 0.00 0.00 0.00 0.00 \n",
      "0.00 1000.00 0.00 0.00 0.00 1000.00 0.00 0.00 0.00 \n",
      "-0.08 0.00 0.00 0.00 -0.16 0.00 1000.00 0.00 0.00 \n",
      "0.00 0.00 0.00 -0.16 0.00 -0.25 0.00 0.29 0.00 \n",
      "0.00 0.00 1000.00 0.00 -0.25 0.00 0.00 0.00 1000.00 \n",
      "0.00 0.00 0.00 1000.00 0.00 0.00 0.00 -0.15 0.00 \n",
      "0.00 0.00 0.00 0.00 0.29 0.00 -0.15 0.00 0.03 \n",
      "0.00 0.00 0.00 0.00 0.00 1000.00 0.00 0.03 0.00 \n",
      "10\n"
     ]
    },
    {
     "data": {
      "image/png": "[encoded data removed]",
      "text/plain": [
       "<Figure size 432x288 with 1 Axes>"
      ]
     },
     "metadata": {
      "needs_background": "light"
     },
     "output_type": "display_data"
    }
   ],
   "source": [
    "Hint = random.randn(4,4)\n",
    "Hint = (Hint +Hint.transpose())*.2/2.0\n",
    "for i in range(Hint.shape[0]):\n",
    "    Hint[i,i] = 0.0\n",
    "newg = game(Hint, Memb = 9)\n",
    "\n",
    "newg.add_new_spin(4)\n",
    "newg.add_new_spin(5)\n",
    "newg.add_new_spin(7)\n",
    "newg.add_new_spin(3)\n",
    "\n",
    "# interaction spins 0,1\n",
    "newg.add_interaction(4,5)\n",
    "\n",
    "\n",
    "# interaction spins 0,2 and 0,3\n",
    "newg.add_interaction(4,7)\n",
    "newg.add_interaction(4,3)\n",
    "\n",
    "# interaction spins 1,2\n",
    "newg.copy_spin(5,2)\n",
    "newg.copy_spin(2,1)\n",
    "newg.copy_spin(1,0)\n",
    "newg.add_interaction(0,3)\n",
    "# and 1,3\n",
    "newg.copy_spin(5,8)\n",
    "newg.add_interaction(8,7)\n",
    "# and 2,3\n",
    "newg.copy_spin(3,6)\n",
    "newg.add_interaction(6,7)\n",
    "\n",
    "newg.print()\n",
    "fig, ax = newg.plot()"
   ]
  },
  {
   "cell_type": "code",
   "execution_count": 184,
   "metadata": {},
   "outputs": [
    {
     "data": {
      "text/plain": [
       "(array([[0., 0., 0., 0.],\n",
       "        [0., 0., 0., 0.],\n",
       "        [0., 0., 0., 0.],\n",
       "        [0., 0., 0., 0.]]),\n",
       " array([[ 0.        , -0.25240988,  0.28875966, -0.16006509],\n",
       "        [-0.25240988,  0.        ,  0.03320644, -0.07761311],\n",
       "        [ 0.28875966,  0.03320644,  0.        , -0.14583605],\n",
       "        [-0.16006509, -0.07761311, -0.14583605,  0.        ]]))"
      ]
     },
     "execution_count": 184,
     "metadata": {},
     "output_type": "execute_result"
    }
   ],
   "source": [
    "newg.Hrest, newg.H"
   ]
  },
  {
   "cell_type": "code",
   "execution_count": 185,
   "metadata": {},
   "outputs": [],
   "source": [
    "from scipy.linalg import eigvals"
   ]
  },
  {
   "cell_type": "code",
   "execution_count": 186,
   "metadata": {},
   "outputs": [
    {
     "data": {
      "text/plain": [
       "array([-1.73205082e+03+0.j,  1.73205082e+03+0.j, -1.00002747e+03+0.j,\n",
       "       -9.99972568e+02+0.j,  1.00002747e+03+0.j,  9.99972568e+02+0.j,\n",
       "       -2.89377237e-01+0.j, -1.43648122e-16+0.j,  2.89377237e-01+0.j])"
      ]
     },
     "execution_count": 186,
     "metadata": {},
     "output_type": "execute_result"
    }
   ],
   "source": [
    "eigvals(newg.Hemb)"
   ]
  },
  {
   "cell_type": "code",
   "execution_count": 187,
   "metadata": {},
   "outputs": [
    {
     "data": {
      "text/plain": [
       "array([ 0.43445339+0.j, -0.4149238 +0.j,  0.13361314+0.j, -0.15314273+0.j])"
      ]
     },
     "execution_count": 187,
     "metadata": {},
     "output_type": "execute_result"
    }
   ],
   "source": [
    "eigvals(newg.H)"
   ]
  },
  {
   "cell_type": "code",
   "execution_count": null,
   "metadata": {},
   "outputs": [],
   "source": []
  }
 ],
 "metadata": {
  "kernelspec": {
   "display_name": "Python 3",
   "language": "python",
   "name": "python3"
  },
  "language_info": {
   "codemirror_mode": {
    "name": "ipython",
    "version": 3
   },
   "file_extension": ".py",
   "mimetype": "text/x-python",
   "name": "python",
   "nbconvert_exporter": "python",
   "pygments_lexer": "ipython3",
   "version": "3.8.0"
  }
 },
 "nbformat": 4,
 "nbformat_minor": 2
}
