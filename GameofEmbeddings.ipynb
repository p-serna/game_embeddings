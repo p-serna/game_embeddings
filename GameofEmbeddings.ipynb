{
 "cells": [
  {
   "cell_type": "code",
   "execution_count": 1,
   "metadata": {},
   "outputs": [],
   "source": [
    "import numpy as np\n",
    "import matplotlib.pyplot as plt\n",
    "%matplotlib inline"
   ]
  },
  {
   "cell_type": "code",
   "execution_count": 2,
   "metadata": {},
   "outputs": [],
   "source": [
    "import numpy.random as random"
   ]
  },
  {
   "cell_type": "code",
   "execution_count": 512,
   "metadata": {},
   "outputs": [],
   "source": [
    "def square_lattice(i,j, Lx = None, Ly = None): \n",
    "    ''' Square lattice with close boundary conditions\n",
    "    '''\n",
    "    neighbours = []\n",
    "    if i+1<Lx:\n",
    "        neighbours.append([i+1,j])\n",
    "    if i-1> -1:\n",
    "        neighbours.append([i-1,j])\n",
    "    if j+1<Ly:\n",
    "        neighbours.append([i,j+1])\n",
    "    if j-1> -1:\n",
    "        neighbours.append([i,j-1])\n",
    "        \n",
    "    return neighbours\n",
    "    \n",
    "class game:\n",
    "    def __init__(self, H, Memb = None, Ls = None, Ly = None, lattice = square_lattice):\n",
    "        self.H = H\n",
    "            \n",
    "        if Memb is None:\n",
    "            self.Hemb = H*0.0\n",
    "            self.Memb = H.shape[0]\n",
    "            self.usedS = np.zeros(self.Memb)\n",
    "        else:\n",
    "            self.Hemb = np.zeros((Memb, Memb))\n",
    "            self.Memb = Memb\n",
    "            self.usedS = np.zeros(Memb)\n",
    "        \n",
    "        if Ls is None:\n",
    "            L = np.int(np.sqrt(self.Memb))\n",
    "            self.Lx, self.Ly = L, L\n",
    "        else:\n",
    "            self.Lx, self,Ly = Ls[0], Ls[1]\n",
    "        \n",
    "        self.N = 0\n",
    "        self.N0 = 0\n",
    "        self.lattice = lattice\n",
    "        self.copyadd = 1\n",
    "        \n",
    "        \n",
    "    def get_state(self):\n",
    "        return self.Hnew, self.copyadd\n",
    "    \n",
    "    def get_poss_actions(self)\n",
    "        actions = []\n",
    "        if self.copyadd:\n",
    "            pass\n",
    "        else:\n",
    "            pass\n",
    "        \n",
    "    \n",
    "    def __len__(self):\n",
    "        return self.N\n",
    "    \n",
    "    def copy_spin(self, i, j):\n",
    "        if i<0 or i>N:\n",
    "            return 0\n",
    "        if j<0 or j>N:\n",
    "            return 0\n",
    "        \n",
    "        self.N += 1\n",
    "        self.Hemb[i,j] = 1.0\n",
    "        self.Hemb[j,i] = 1.0\n",
    "        \n",
    "    def add_new_spin(self, i, interactions = 2*random.rand(4)-1):\n",
    "        neighbours = self.get_neighbours(i)\n",
    "        self.usedS[i] = 1\n",
    "        self.N += 1\n",
    "        self.N0 += 1\n",
    "        for site, jint in zip(neighbours, interactions):\n",
    "            j = site[1]*self.Lx+site[0]\n",
    "            # if self.usedS[j]==1:\n",
    "            #     self.Hemb[i,j] = jint\n",
    "            #     self.Hemb[j,i] = jint\n",
    "            # print(j)\n",
    "            self.Hemb[i,j] = jint*self.usedS[j]\n",
    "            self.Hemb[j,i] = jint*self.usedS[j]\n",
    "\n",
    "\n",
    "    def get_neighbours(self, i):\n",
    "        ix, iy = i%self.Lx, i//self.Lx\n",
    "        return self.lattice(ix, iy, self.Lx, self.Ly)\n",
    "    \n",
    "    def print(self):\n",
    "        for i in range(self.Hemb.shape[0]):\n",
    "            stre = self.Memb*'{:.2f} '\n",
    "            print(stre.format(*self.Hemb[i,:]))\n",
    "            \n",
    "    def plot(self, ax = None, **kwargs):\n",
    "        if ax is None:\n",
    "            fig, ax = plt.subplots(1,1, **kwargs)\n",
    "        \n",
    "        idc0 = np.arange(self.Memb)\n",
    "        idcs = idc0[self.usedS==1]\n",
    "        ix, iy = idcs%self.Lx, idcs//self.Lx\n",
    "        \n",
    "        ax.scatter(ix,iy)\n",
    "        \n",
    "        #print(idcs)\n",
    "        xx = []\n",
    "        yy = []\n",
    "        uu = []\n",
    "        vv = []\n",
    "        cc = []\n",
    "        if len(idcs)>2:\n",
    "            for i0, i in enumerate(idcs):\n",
    "                ix0, iy0 = i%self.Lx, i//self.Lx\n",
    "                idc1 = idc0[np.abs(self.Hemb[i,:])>0]\n",
    "                if len(idc1)>0:\n",
    "                    ix1, iy1 = idc1%self.Lx, idc1//self.Lx\n",
    "                    \n",
    "                    xx.extend(ix0+ix1*0)\n",
    "                    yy.extend(iy0+iy1*0) \n",
    "                    uu.extend(ix1-ix0) \n",
    "                    vv.extend(iy1-iy0)\n",
    "                    cc.extend(1+self.Hemb[i,idc1]/2.0)\n",
    "                    \n",
    "        ax.quiver(xx,yy,uu,vv,cc,\n",
    "            scale = self.Lx, headwidth = 0, cmap='seismic' )\n",
    "            \n",
    "        #ax.quiver\n",
    "        ax.set_aspect('equal')\n",
    "        #ax.set_clim(-1,1)\n",
    "\n",
    "        ax.set_xlim(-0.05,self.Lx+0.05)\n",
    "        ax.set_ylim(-0.05,self.Ly+0.05)\n",
    "        return fig, ax"
   ]
  },
  {
   "cell_type": "code",
   "execution_count": 513,
   "metadata": {},
   "outputs": [],
   "source": [
    "Hint = random.randn(9,9)"
   ]
  },
  {
   "cell_type": "code",
   "execution_count": 523,
   "metadata": {},
   "outputs": [],
   "source": [
    "Hint = Hint +Hint.transpose()"
   ]
  },
  {
   "cell_type": "code",
   "execution_count": 524,
   "metadata": {},
   "outputs": [],
   "source": [
    "newg = game(Hint, Memb = 25)"
   ]
  },
  {
   "cell_type": "code",
   "execution_count": 525,
   "metadata": {},
   "outputs": [
    {
     "data": {
      "text/plain": [
       "25"
      ]
     },
     "execution_count": 525,
     "metadata": {},
     "output_type": "execute_result"
    }
   ],
   "source": [
    "newg.Memb"
   ]
  },
  {
   "cell_type": "code",
   "execution_count": 526,
   "metadata": {},
   "outputs": [],
   "source": [
    "[].extend([1,3,4])"
   ]
  },
  {
   "cell_type": "code",
   "execution_count": 529,
   "metadata": {},
   "outputs": [
    {
     "data": {
      "image/png": "[encoded data removed]",
      "text/plain": [
       "<Figure size 432x288 with 1 Axes>"
      ]
     },
     "metadata": {
      "needs_background": "light"
     },
     "output_type": "display_data"
    }
   ],
   "source": [
    "newg.add_new_spin(10)\n",
    "newg.add_new_spin(5)\n",
    "newg.add_new_spin(6)\n",
    "newg.add_new_spin(11)\n",
    "newg.add_new_spin(21)\n",
    "newg.add_new_spin(7)\n",
    "\n",
    "fig, ax = newg.plot()\n",
    "#ax.quiver([[0,1,2], [1,1,1]],[1,1,1],[0,0,0,0,0,0])"
   ]
  },
  {
   "cell_type": "code",
   "execution_count": null,
   "metadata": {},
   "outputs": [],
   "source": []
  }
 ],
 "metadata": {
  "kernelspec": {
   "display_name": "Python 3",
   "language": "python",
   "name": "python3"
  },
  "language_info": {
   "codemirror_mode": {
    "name": "ipython",
    "version": 3
   },
   "file_extension": ".py",
   "mimetype": "text/x-python",
   "name": "python",
   "nbconvert_exporter": "python",
   "pygments_lexer": "ipython3",
   "version": "3.7.6"
  }
 },
 "nbformat": 4,
 "nbformat_minor": 2
}
